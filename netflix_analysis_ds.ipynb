{
  "nbformat": 4,
  "nbformat_minor": 0,
  "metadata": {
    "colab": {
      "provenance": [],
      "toc_visible": true,
      "authorship_tag": "ABX9TyNsJ1aXqZdE9w9AWvD+U6Zu",
      "include_colab_link": true
    },
    "kernelspec": {
      "name": "python3",
      "display_name": "Python 3"
    },
    "language_info": {
      "name": "python"
    }
  },
  "cells": [
    {
      "cell_type": "markdown",
      "metadata": {
        "id": "view-in-github",
        "colab_type": "text"
      },
      "source": [
        "<a href=\"https://colab.research.google.com/github/erickbordam/data-projects/blob/main/netflix_analysis_ds.ipynb\" target=\"_parent\"><img src=\"https://colab.research.google.com/assets/colab-badge.svg\" alt=\"Open In Colab\"/></a>"
      ]
    },
    {
      "cell_type": "markdown",
      "source": [
        "---\n",
        "title: \"Car Types\"\n",
        "author: \"Erick Borda\"\n",
        "date: \"2023-11-14\"\n",
        "output: pdf_document\n",
        "---"
      ],
      "metadata": {
        "id": "43uD-GwyvKnU"
      }
    },
    {
      "cell_type": "markdown",
      "source": [
        "# **Netflix Dataset Analysis**"
      ],
      "metadata": {
        "id": "2Acln0ObuqWQ"
      }
    },
    {
      "cell_type": "markdown",
      "source": [
        "## **1. Identified problem.**"
      ],
      "metadata": {
        "id": "vP01Nrg60GLD"
      }
    },
    {
      "cell_type": "markdown",
      "source": [
        "The central challenge is to comprehend the dynamic content creation landscape within the streaming industry. Through a detailed analysis of trends encompassing content duration, ratings, and international distribution, this study seeks to offer crucial insights into the ever-changing preferences of audiences, the intricate dynamics of regional content, and the strategic choices made by both content creators and streaming platforms. This knowledge becomes pivotal in adapting content strategies, customizing offerings to diverse audience segments, and refining content creation processes to align with the evolving demands of the global streaming market."
      ],
      "metadata": {
        "id": "PUg3IcaOuzw3"
      }
    },
    {
      "cell_type": "markdown",
      "source": [
        "## **2. Research Questions.**"
      ],
      "metadata": {
        "id": "5X1SbctG0Xkb"
      }
    },
    {
      "cell_type": "markdown",
      "source": [
        "In this project, it'll be focus on:\n",
        "1. How does the duration of content (movies and TV shows) vary across different content ratings, and are there significant differences in duration between content rated for different audiences?\n",
        "2.\tHow does the movie duration trend change before and after the year 2000?\n",
        "3.\tHow does the content production change over time? Is there any variation in popular genre over the years?\n",
        "4.\tWhat kind of TV shows/movies are streamed most on Netflix?\n"
      ],
      "metadata": {
        "id": "-ji19ixM0dcG"
      }
    },
    {
      "cell_type": "markdown",
      "source": [
        "## **3. Null Hypothesis.**"
      ],
      "metadata": {
        "id": "C6uOct9B2P0O"
      }
    },
    {
      "cell_type": "markdown",
      "source": [
        "* How does the duration of content (movies and TV shows) vary across different content ratings, and are there significant differences in duration between content rated for different audiences?\n",
        "  -  **H0:**  There is no significant difference in the mean duration of content (movies and TV shows) among different content ratings.\n",
        "  - **H1:** There is significant difference in the mean duration of content (movies and TV shows) among different content ratings.\n",
        "* How does the movie duration trend change before and after the year 2000?\n",
        "  - **H0:** There is no significant difference in the mean duration of movies before and after the year 2000.\n",
        "  - **H1:** There is significant difference in the mean duration of movies before and after the year 2000.\n",
        "* How does the content production change over time? Is there any variation in popular genres over the years?\n",
        "  - **H0:** There is no significant difference in the proportion of content production across different years, nor is there any variation in the popularity of genres over the years.\n",
        "  - **H1:** There is significant difference in the proportion of content production across different years, nor is there any variation in the popularity of genres over the years.\n",
        "* What kind of TV shows/movies are streamed most on Netflix?\n",
        "  - **H0:** There is no significant difference in the popularity of different genres or types of TV shows/movies streamed on Netflix.\n",
        "  - **H1:** There is significant difference in the popularity of different genres or types of TV shows/movies streamed on Netflix."
      ],
      "metadata": {
        "id": "DVbqSJQN2Vqb"
      }
    },
    {
      "cell_type": "markdown",
      "source": [
        "## **4. Importing Libraries.**"
      ],
      "metadata": {
        "id": "5NlhX-7Q5wvP"
      }
    },
    {
      "cell_type": "markdown",
      "source": [
        "Use Kaleido to export Plotly images"
      ],
      "metadata": {
        "id": "Shhz4hh53QWl"
      }
    },
    {
      "cell_type": "code",
      "source": [
        "pip install -U kaleido"
      ],
      "metadata": {
        "colab": {
          "base_uri": "https://localhost:8080/"
        },
        "id": "rd88owlY3Lxr",
        "outputId": "27014011-e171-4d06-cf4a-8d96fb576692"
      },
      "execution_count": 77,
      "outputs": [
        {
          "output_type": "stream",
          "name": "stdout",
          "text": [
            "Requirement already satisfied: kaleido in /usr/local/lib/python3.10/dist-packages (0.2.1)\n"
          ]
        }
      ]
    },
    {
      "cell_type": "code",
      "execution_count": 69,
      "metadata": {
        "id": "tdBxZGcVupe8"
      },
      "outputs": [],
      "source": [
        "import pandas as pd\n",
        "import matplotlib.pyplot as plt\n",
        "import seaborn as sns\n",
        "import re\n",
        "from scipy.stats import shapiro\n",
        "from scipy.stats import kruskal\n",
        "import plotly.express as px\n",
        "import numpy as np\n",
        "from scipy import stats\n",
        "import plotly.graph_objects as go\n",
        "from scipy.stats import skew\n",
        "from scipy.stats import ttest_ind"
      ]
    },
    {
      "cell_type": "markdown",
      "source": [
        "Importing the dataset"
      ],
      "metadata": {
        "id": "y6nCXBcI-srL"
      }
    },
    {
      "cell_type": "code",
      "source": [
        "df = pd.read_csv(\"Netflix dataset.csv\")"
      ],
      "metadata": {
        "id": "cWMMpaGj-v-W"
      },
      "execution_count": 70,
      "outputs": []
    },
    {
      "cell_type": "markdown",
      "source": [
        "Exploring the dataset."
      ],
      "metadata": {
        "id": "3b4ZoCGX_YjZ"
      }
    },
    {
      "cell_type": "code",
      "source": [
        "df.info()"
      ],
      "metadata": {
        "colab": {
          "base_uri": "https://localhost:8080/"
        },
        "id": "780qFJg5_b2D",
        "outputId": "e1ced004-d4cc-4f37-bc2e-ce8eae7579b9"
      },
      "execution_count": 71,
      "outputs": [
        {
          "output_type": "stream",
          "name": "stdout",
          "text": [
            "<class 'pandas.core.frame.DataFrame'>\n",
            "RangeIndex: 8790 entries, 0 to 8789\n",
            "Data columns (total 10 columns):\n",
            " #   Column        Non-Null Count  Dtype \n",
            "---  ------        --------------  ----- \n",
            " 0   show_id       8790 non-null   object\n",
            " 1   type          8790 non-null   object\n",
            " 2   title         8790 non-null   object\n",
            " 3   director      8790 non-null   object\n",
            " 4   country       8790 non-null   object\n",
            " 5   date_added    8790 non-null   object\n",
            " 6   release_year  8790 non-null   int64 \n",
            " 7   rating        8790 non-null   object\n",
            " 8   duration      8790 non-null   object\n",
            " 9   listed_in     8790 non-null   object\n",
            "dtypes: int64(1), object(9)\n",
            "memory usage: 686.8+ KB\n"
          ]
        }
      ]
    },
    {
      "cell_type": "markdown",
      "source": [
        "**Dataset Dimensions:**\n",
        "- Comprises 8790 entries (titles)\n",
        "- 10 columns\n",
        "each serving as a feature that provides specific information about the titles.\n"
      ],
      "metadata": {
        "id": "QJyYqfrt_fJ7"
      }
    },
    {
      "cell_type": "markdown",
      "source": [
        "**Key Features:**\n",
        "* **show_id:** Unique identifier for each title.\n",
        "* **type:** Indicates whether the entry is a Movie or a TV Show.\n",
        "* **title:** The title of the TV show or movie.\n",
        "* **director:** The director(s) responsible for the content.\n",
        "* **country:** The country or countries associated with the title.\n",
        "* **date_added:** Presumably, The date when the title was added to Netflix.\n",
        "* **release_year:** The year the content was originally released.\n",
        "* **rating:** The content rating assigned to the title.\n",
        "* **duration:** The duration of the title, either in minutes or specified for TV shows as seasons.\n",
        "* **listed_in:** The genre or genres to which the title is assigned.\n"
      ],
      "metadata": {
        "id": "S0guyifK_zpe"
      }
    },
    {
      "cell_type": "markdown",
      "source": [
        "Descriptive statistics, including measures of central tendency and dispersion, have been utilized to provide insights into the characteristics of the dataset."
      ],
      "metadata": {
        "id": "QJLQpFfPASoq"
      }
    },
    {
      "cell_type": "code",
      "source": [
        "descriptive_stats = df.describe(include='all')\n",
        "descriptive_stats"
      ],
      "metadata": {
        "colab": {
          "base_uri": "https://localhost:8080/",
          "height": 429
        },
        "id": "sP5QQXK3AbUP",
        "outputId": "7e6c318e-62d5-4f7a-ff16-ab5fdd78aa8b"
      },
      "execution_count": 72,
      "outputs": [
        {
          "output_type": "execute_result",
          "data": {
            "text/plain": [
              "       show_id   type  title   director        country date_added  \\\n",
              "count     8790   8790   8790       8790           8790       8790   \n",
              "unique    8790      2   8787       4528             86       1713   \n",
              "top         s1  Movie  9-Feb  Not Given  United States   1/1/2020   \n",
              "freq         1   6126      2       2588           3240        110   \n",
              "mean       NaN    NaN    NaN        NaN            NaN        NaN   \n",
              "std        NaN    NaN    NaN        NaN            NaN        NaN   \n",
              "min        NaN    NaN    NaN        NaN            NaN        NaN   \n",
              "25%        NaN    NaN    NaN        NaN            NaN        NaN   \n",
              "50%        NaN    NaN    NaN        NaN            NaN        NaN   \n",
              "75%        NaN    NaN    NaN        NaN            NaN        NaN   \n",
              "max        NaN    NaN    NaN        NaN            NaN        NaN   \n",
              "\n",
              "        release_year rating  duration                     listed_in  \n",
              "count    8790.000000   8790      8790                          8790  \n",
              "unique           NaN     14       220                           513  \n",
              "top              NaN  TV-MA  1 Season  Dramas, International Movies  \n",
              "freq             NaN   3205      1791                           362  \n",
              "mean     2014.183163    NaN       NaN                           NaN  \n",
              "std         8.825466    NaN       NaN                           NaN  \n",
              "min      1925.000000    NaN       NaN                           NaN  \n",
              "25%      2013.000000    NaN       NaN                           NaN  \n",
              "50%      2017.000000    NaN       NaN                           NaN  \n",
              "75%      2019.000000    NaN       NaN                           NaN  \n",
              "max      2021.000000    NaN       NaN                           NaN  "
            ],
            "text/html": [
              "\n",
              "  <div id=\"df-21b13f45-2ff0-43fa-b00f-eee43aad79e7\" class=\"colab-df-container\">\n",
              "    <div>\n",
              "<style scoped>\n",
              "    .dataframe tbody tr th:only-of-type {\n",
              "        vertical-align: middle;\n",
              "    }\n",
              "\n",
              "    .dataframe tbody tr th {\n",
              "        vertical-align: top;\n",
              "    }\n",
              "\n",
              "    .dataframe thead th {\n",
              "        text-align: right;\n",
              "    }\n",
              "</style>\n",
              "<table border=\"1\" class=\"dataframe\">\n",
              "  <thead>\n",
              "    <tr style=\"text-align: right;\">\n",
              "      <th></th>\n",
              "      <th>show_id</th>\n",
              "      <th>type</th>\n",
              "      <th>title</th>\n",
              "      <th>director</th>\n",
              "      <th>country</th>\n",
              "      <th>date_added</th>\n",
              "      <th>release_year</th>\n",
              "      <th>rating</th>\n",
              "      <th>duration</th>\n",
              "      <th>listed_in</th>\n",
              "    </tr>\n",
              "  </thead>\n",
              "  <tbody>\n",
              "    <tr>\n",
              "      <th>count</th>\n",
              "      <td>8790</td>\n",
              "      <td>8790</td>\n",
              "      <td>8790</td>\n",
              "      <td>8790</td>\n",
              "      <td>8790</td>\n",
              "      <td>8790</td>\n",
              "      <td>8790.000000</td>\n",
              "      <td>8790</td>\n",
              "      <td>8790</td>\n",
              "      <td>8790</td>\n",
              "    </tr>\n",
              "    <tr>\n",
              "      <th>unique</th>\n",
              "      <td>8790</td>\n",
              "      <td>2</td>\n",
              "      <td>8787</td>\n",
              "      <td>4528</td>\n",
              "      <td>86</td>\n",
              "      <td>1713</td>\n",
              "      <td>NaN</td>\n",
              "      <td>14</td>\n",
              "      <td>220</td>\n",
              "      <td>513</td>\n",
              "    </tr>\n",
              "    <tr>\n",
              "      <th>top</th>\n",
              "      <td>s1</td>\n",
              "      <td>Movie</td>\n",
              "      <td>9-Feb</td>\n",
              "      <td>Not Given</td>\n",
              "      <td>United States</td>\n",
              "      <td>1/1/2020</td>\n",
              "      <td>NaN</td>\n",
              "      <td>TV-MA</td>\n",
              "      <td>1 Season</td>\n",
              "      <td>Dramas, International Movies</td>\n",
              "    </tr>\n",
              "    <tr>\n",
              "      <th>freq</th>\n",
              "      <td>1</td>\n",
              "      <td>6126</td>\n",
              "      <td>2</td>\n",
              "      <td>2588</td>\n",
              "      <td>3240</td>\n",
              "      <td>110</td>\n",
              "      <td>NaN</td>\n",
              "      <td>3205</td>\n",
              "      <td>1791</td>\n",
              "      <td>362</td>\n",
              "    </tr>\n",
              "    <tr>\n",
              "      <th>mean</th>\n",
              "      <td>NaN</td>\n",
              "      <td>NaN</td>\n",
              "      <td>NaN</td>\n",
              "      <td>NaN</td>\n",
              "      <td>NaN</td>\n",
              "      <td>NaN</td>\n",
              "      <td>2014.183163</td>\n",
              "      <td>NaN</td>\n",
              "      <td>NaN</td>\n",
              "      <td>NaN</td>\n",
              "    </tr>\n",
              "    <tr>\n",
              "      <th>std</th>\n",
              "      <td>NaN</td>\n",
              "      <td>NaN</td>\n",
              "      <td>NaN</td>\n",
              "      <td>NaN</td>\n",
              "      <td>NaN</td>\n",
              "      <td>NaN</td>\n",
              "      <td>8.825466</td>\n",
              "      <td>NaN</td>\n",
              "      <td>NaN</td>\n",
              "      <td>NaN</td>\n",
              "    </tr>\n",
              "    <tr>\n",
              "      <th>min</th>\n",
              "      <td>NaN</td>\n",
              "      <td>NaN</td>\n",
              "      <td>NaN</td>\n",
              "      <td>NaN</td>\n",
              "      <td>NaN</td>\n",
              "      <td>NaN</td>\n",
              "      <td>1925.000000</td>\n",
              "      <td>NaN</td>\n",
              "      <td>NaN</td>\n",
              "      <td>NaN</td>\n",
              "    </tr>\n",
              "    <tr>\n",
              "      <th>25%</th>\n",
              "      <td>NaN</td>\n",
              "      <td>NaN</td>\n",
              "      <td>NaN</td>\n",
              "      <td>NaN</td>\n",
              "      <td>NaN</td>\n",
              "      <td>NaN</td>\n",
              "      <td>2013.000000</td>\n",
              "      <td>NaN</td>\n",
              "      <td>NaN</td>\n",
              "      <td>NaN</td>\n",
              "    </tr>\n",
              "    <tr>\n",
              "      <th>50%</th>\n",
              "      <td>NaN</td>\n",
              "      <td>NaN</td>\n",
              "      <td>NaN</td>\n",
              "      <td>NaN</td>\n",
              "      <td>NaN</td>\n",
              "      <td>NaN</td>\n",
              "      <td>2017.000000</td>\n",
              "      <td>NaN</td>\n",
              "      <td>NaN</td>\n",
              "      <td>NaN</td>\n",
              "    </tr>\n",
              "    <tr>\n",
              "      <th>75%</th>\n",
              "      <td>NaN</td>\n",
              "      <td>NaN</td>\n",
              "      <td>NaN</td>\n",
              "      <td>NaN</td>\n",
              "      <td>NaN</td>\n",
              "      <td>NaN</td>\n",
              "      <td>2019.000000</td>\n",
              "      <td>NaN</td>\n",
              "      <td>NaN</td>\n",
              "      <td>NaN</td>\n",
              "    </tr>\n",
              "    <tr>\n",
              "      <th>max</th>\n",
              "      <td>NaN</td>\n",
              "      <td>NaN</td>\n",
              "      <td>NaN</td>\n",
              "      <td>NaN</td>\n",
              "      <td>NaN</td>\n",
              "      <td>NaN</td>\n",
              "      <td>2021.000000</td>\n",
              "      <td>NaN</td>\n",
              "      <td>NaN</td>\n",
              "      <td>NaN</td>\n",
              "    </tr>\n",
              "  </tbody>\n",
              "</table>\n",
              "</div>\n",
              "    <div class=\"colab-df-buttons\">\n",
              "\n",
              "  <div class=\"colab-df-container\">\n",
              "    <button class=\"colab-df-convert\" onclick=\"convertToInteractive('df-21b13f45-2ff0-43fa-b00f-eee43aad79e7')\"\n",
              "            title=\"Convert this dataframe to an interactive table.\"\n",
              "            style=\"display:none;\">\n",
              "\n",
              "  <svg xmlns=\"http://www.w3.org/2000/svg\" height=\"24px\" viewBox=\"0 -960 960 960\">\n",
              "    <path d=\"M120-120v-720h720v720H120Zm60-500h600v-160H180v160Zm220 220h160v-160H400v160Zm0 220h160v-160H400v160ZM180-400h160v-160H180v160Zm440 0h160v-160H620v160ZM180-180h160v-160H180v160Zm440 0h160v-160H620v160Z\"/>\n",
              "  </svg>\n",
              "    </button>\n",
              "\n",
              "  <style>\n",
              "    .colab-df-container {\n",
              "      display:flex;\n",
              "      gap: 12px;\n",
              "    }\n",
              "\n",
              "    .colab-df-convert {\n",
              "      background-color: #E8F0FE;\n",
              "      border: none;\n",
              "      border-radius: 50%;\n",
              "      cursor: pointer;\n",
              "      display: none;\n",
              "      fill: #1967D2;\n",
              "      height: 32px;\n",
              "      padding: 0 0 0 0;\n",
              "      width: 32px;\n",
              "    }\n",
              "\n",
              "    .colab-df-convert:hover {\n",
              "      background-color: #E2EBFA;\n",
              "      box-shadow: 0px 1px 2px rgba(60, 64, 67, 0.3), 0px 1px 3px 1px rgba(60, 64, 67, 0.15);\n",
              "      fill: #174EA6;\n",
              "    }\n",
              "\n",
              "    .colab-df-buttons div {\n",
              "      margin-bottom: 4px;\n",
              "    }\n",
              "\n",
              "    [theme=dark] .colab-df-convert {\n",
              "      background-color: #3B4455;\n",
              "      fill: #D2E3FC;\n",
              "    }\n",
              "\n",
              "    [theme=dark] .colab-df-convert:hover {\n",
              "      background-color: #434B5C;\n",
              "      box-shadow: 0px 1px 3px 1px rgba(0, 0, 0, 0.15);\n",
              "      filter: drop-shadow(0px 1px 2px rgba(0, 0, 0, 0.3));\n",
              "      fill: #FFFFFF;\n",
              "    }\n",
              "  </style>\n",
              "\n",
              "    <script>\n",
              "      const buttonEl =\n",
              "        document.querySelector('#df-21b13f45-2ff0-43fa-b00f-eee43aad79e7 button.colab-df-convert');\n",
              "      buttonEl.style.display =\n",
              "        google.colab.kernel.accessAllowed ? 'block' : 'none';\n",
              "\n",
              "      async function convertToInteractive(key) {\n",
              "        const element = document.querySelector('#df-21b13f45-2ff0-43fa-b00f-eee43aad79e7');\n",
              "        const dataTable =\n",
              "          await google.colab.kernel.invokeFunction('convertToInteractive',\n",
              "                                                    [key], {});\n",
              "        if (!dataTable) return;\n",
              "\n",
              "        const docLinkHtml = 'Like what you see? Visit the ' +\n",
              "          '<a target=\"_blank\" href=https://colab.research.google.com/notebooks/data_table.ipynb>data table notebook</a>'\n",
              "          + ' to learn more about interactive tables.';\n",
              "        element.innerHTML = '';\n",
              "        dataTable['output_type'] = 'display_data';\n",
              "        await google.colab.output.renderOutput(dataTable, element);\n",
              "        const docLink = document.createElement('div');\n",
              "        docLink.innerHTML = docLinkHtml;\n",
              "        element.appendChild(docLink);\n",
              "      }\n",
              "    </script>\n",
              "  </div>\n",
              "\n",
              "\n",
              "<div id=\"df-37a2d61b-0e0f-4736-8640-3ac3264593ec\">\n",
              "  <button class=\"colab-df-quickchart\" onclick=\"quickchart('df-37a2d61b-0e0f-4736-8640-3ac3264593ec')\"\n",
              "            title=\"Suggest charts\"\n",
              "            style=\"display:none;\">\n",
              "\n",
              "<svg xmlns=\"http://www.w3.org/2000/svg\" height=\"24px\"viewBox=\"0 0 24 24\"\n",
              "     width=\"24px\">\n",
              "    <g>\n",
              "        <path d=\"M19 3H5c-1.1 0-2 .9-2 2v14c0 1.1.9 2 2 2h14c1.1 0 2-.9 2-2V5c0-1.1-.9-2-2-2zM9 17H7v-7h2v7zm4 0h-2V7h2v10zm4 0h-2v-4h2v4z\"/>\n",
              "    </g>\n",
              "</svg>\n",
              "  </button>\n",
              "\n",
              "<style>\n",
              "  .colab-df-quickchart {\n",
              "      --bg-color: #E8F0FE;\n",
              "      --fill-color: #1967D2;\n",
              "      --hover-bg-color: #E2EBFA;\n",
              "      --hover-fill-color: #174EA6;\n",
              "      --disabled-fill-color: #AAA;\n",
              "      --disabled-bg-color: #DDD;\n",
              "  }\n",
              "\n",
              "  [theme=dark] .colab-df-quickchart {\n",
              "      --bg-color: #3B4455;\n",
              "      --fill-color: #D2E3FC;\n",
              "      --hover-bg-color: #434B5C;\n",
              "      --hover-fill-color: #FFFFFF;\n",
              "      --disabled-bg-color: #3B4455;\n",
              "      --disabled-fill-color: #666;\n",
              "  }\n",
              "\n",
              "  .colab-df-quickchart {\n",
              "    background-color: var(--bg-color);\n",
              "    border: none;\n",
              "    border-radius: 50%;\n",
              "    cursor: pointer;\n",
              "    display: none;\n",
              "    fill: var(--fill-color);\n",
              "    height: 32px;\n",
              "    padding: 0;\n",
              "    width: 32px;\n",
              "  }\n",
              "\n",
              "  .colab-df-quickchart:hover {\n",
              "    background-color: var(--hover-bg-color);\n",
              "    box-shadow: 0 1px 2px rgba(60, 64, 67, 0.3), 0 1px 3px 1px rgba(60, 64, 67, 0.15);\n",
              "    fill: var(--button-hover-fill-color);\n",
              "  }\n",
              "\n",
              "  .colab-df-quickchart-complete:disabled,\n",
              "  .colab-df-quickchart-complete:disabled:hover {\n",
              "    background-color: var(--disabled-bg-color);\n",
              "    fill: var(--disabled-fill-color);\n",
              "    box-shadow: none;\n",
              "  }\n",
              "\n",
              "  .colab-df-spinner {\n",
              "    border: 2px solid var(--fill-color);\n",
              "    border-color: transparent;\n",
              "    border-bottom-color: var(--fill-color);\n",
              "    animation:\n",
              "      spin 1s steps(1) infinite;\n",
              "  }\n",
              "\n",
              "  @keyframes spin {\n",
              "    0% {\n",
              "      border-color: transparent;\n",
              "      border-bottom-color: var(--fill-color);\n",
              "      border-left-color: var(--fill-color);\n",
              "    }\n",
              "    20% {\n",
              "      border-color: transparent;\n",
              "      border-left-color: var(--fill-color);\n",
              "      border-top-color: var(--fill-color);\n",
              "    }\n",
              "    30% {\n",
              "      border-color: transparent;\n",
              "      border-left-color: var(--fill-color);\n",
              "      border-top-color: var(--fill-color);\n",
              "      border-right-color: var(--fill-color);\n",
              "    }\n",
              "    40% {\n",
              "      border-color: transparent;\n",
              "      border-right-color: var(--fill-color);\n",
              "      border-top-color: var(--fill-color);\n",
              "    }\n",
              "    60% {\n",
              "      border-color: transparent;\n",
              "      border-right-color: var(--fill-color);\n",
              "    }\n",
              "    80% {\n",
              "      border-color: transparent;\n",
              "      border-right-color: var(--fill-color);\n",
              "      border-bottom-color: var(--fill-color);\n",
              "    }\n",
              "    90% {\n",
              "      border-color: transparent;\n",
              "      border-bottom-color: var(--fill-color);\n",
              "    }\n",
              "  }\n",
              "</style>\n",
              "\n",
              "  <script>\n",
              "    async function quickchart(key) {\n",
              "      const quickchartButtonEl =\n",
              "        document.querySelector('#' + key + ' button');\n",
              "      quickchartButtonEl.disabled = true;  // To prevent multiple clicks.\n",
              "      quickchartButtonEl.classList.add('colab-df-spinner');\n",
              "      try {\n",
              "        const charts = await google.colab.kernel.invokeFunction(\n",
              "            'suggestCharts', [key], {});\n",
              "      } catch (error) {\n",
              "        console.error('Error during call to suggestCharts:', error);\n",
              "      }\n",
              "      quickchartButtonEl.classList.remove('colab-df-spinner');\n",
              "      quickchartButtonEl.classList.add('colab-df-quickchart-complete');\n",
              "    }\n",
              "    (() => {\n",
              "      let quickchartButtonEl =\n",
              "        document.querySelector('#df-37a2d61b-0e0f-4736-8640-3ac3264593ec button');\n",
              "      quickchartButtonEl.style.display =\n",
              "        google.colab.kernel.accessAllowed ? 'block' : 'none';\n",
              "    })();\n",
              "  </script>\n",
              "</div>\n",
              "    </div>\n",
              "  </div>\n"
            ]
          },
          "metadata": {},
          "execution_count": 72
        }
      ]
    },
    {
      "cell_type": "markdown",
      "source": [
        "## **5. Data cleaning.**"
      ],
      "metadata": {
        "id": "A-Q-fY4S-aOV"
      }
    },
    {
      "cell_type": "markdown",
      "source": [
        "### **5.1. Identifying missing values.**"
      ],
      "metadata": {
        "id": "TI-k_kNJ-iSl"
      }
    },
    {
      "cell_type": "code",
      "source": [
        "# Re check missing and duplicate values\n",
        "df.isnull().sum()\n",
        "#Total missing values\n",
        "total_missing = df.isnull().sum().sum()\n",
        "print('Total missing values: ', total_missing)"
      ],
      "metadata": {
        "id": "cxQnnQrv-gYC",
        "outputId": "edb36f0c-f734-45a0-b48a-bce3729a38fe",
        "colab": {
          "base_uri": "https://localhost:8080/"
        }
      },
      "execution_count": 73,
      "outputs": [
        {
          "output_type": "stream",
          "name": "stdout",
          "text": [
            "Total missing values:  0\n"
          ]
        }
      ]
    },
    {
      "cell_type": "markdown",
      "source": [
        "### **5.2. Identifying duplicated values.**"
      ],
      "metadata": {
        "id": "sRWfVJP4u5EW"
      }
    },
    {
      "cell_type": "code",
      "source": [
        "# Check for duplicate data\n",
        "duplicates = df.duplicated()\n",
        "\n",
        "# Summarize duplicate data\n",
        "total_duplicates = sum(duplicates)\n",
        "print('Total duplicates: ', total_duplicates)"
      ],
      "metadata": {
        "id": "hPDOSiM_r2La",
        "colab": {
          "base_uri": "https://localhost:8080/"
        },
        "outputId": "2af69406-4688-402c-98a4-f4a67fc0817a"
      },
      "execution_count": 74,
      "outputs": [
        {
          "output_type": "stream",
          "name": "stdout",
          "text": [
            "Total duplicates:  0\n"
          ]
        }
      ]
    },
    {
      "cell_type": "markdown",
      "source": [
        "### **5.3. Identifying Outliers.**"
      ],
      "metadata": {
        "id": "B1_J-_GVyLEc"
      }
    },
    {
      "cell_type": "code",
      "source": [
        "# Assuming 'df' is your DataFrame\n",
        "fig = px.box(df, y='release_year', labels={'release_year': 'Release Year'},\n",
        "             title='Boxplot for Release Year')\n",
        "fig.show(rendered = \"svg\")"
      ],
      "metadata": {
        "colab": {
          "base_uri": "https://localhost:8080/",
          "height": 542
        },
        "id": "8NXn1TFHsxTP",
        "outputId": "5915b8e9-2304-4e5a-aca9-4f6f23dd88e1"
      },
      "execution_count": 79,
      "outputs": [
        {
          "output_type": "display_data",
          "data": {
            "text/html": [
              "<html>\n",
              "<head><meta charset=\"utf-8\" /></head>\n",
              "<body>\n",
              "    <div>            <script src=\"https://cdnjs.cloudflare.com/ajax/libs/mathjax/2.7.5/MathJax.js?config=TeX-AMS-MML_SVG\"></script><script type=\"text/javascript\">if (window.MathJax && window.MathJax.Hub && window.MathJax.Hub.Config) {window.MathJax.Hub.Config({SVG: {font: \"STIX-Web\"}});}</script>                <script type=\"text/javascript\">window.PlotlyConfig = {MathJaxConfig: 'local'};</script>\n",
              "        <script charset=\"utf-8\" src=\"https://cdn.plot.ly/plotly-2.24.1.min.js\"></script>                <div id=\"8d2a723e-bfb8-4632-b20e-51a5c04848ee\" class=\"plotly-graph-div\" style=\"height:525px; width:100%;\"></div>            <script type=\"text/javascript\">                                    window.PLOTLYENV=window.PLOTLYENV || {};                                    if (document.getElementById(\"8d2a723e-bfb8-4632-b20e-51a5c04848ee\")) {                    Plotly.newPlot(                        \"8d2a723e-bfb8-4632-b20e-51a5c04848ee\",                        [{\"alignmentgroup\":\"True\",\"hovertemplate\":\"Release Year=%{y}\\u003cextra\\u003e\\u003c\\u002fextra\\u003e\",\"legendgroup\":\"\",\"marker\":{\"color\":\"#636efa\"},\"name\":\"\",\"notched\":false,\"offsetgroup\":\"\",\"orientation\":\"v\",\"showlegend\":false,\"x0\":\" \",\"xaxis\":\"x\",\"y\":[2020,2021,2021,2021,1993,2021,2021,2019,2021,2013,2014,2013,2021,2021,2021,2021,2021,2021,2021,2019,2018,2018,2018,2021,2021,2020,2018,2021,2021,1998,2010,2013,2013,2021,2021,2021,2020,2021,2021,2021,2019,2017,2019,2019,2021,2021,2019,2020,2021,2021,2021,1997,2021,1996,2021,2021,2021,2017,2020,2021,1975,1978,1983,1987,2012,2001,2021,2002,2002,2003,2004,2001,2021,2021,2021,2021,2021,2021,2021,2021,2021,2011,2008,2009,2007,2010,2005,2006,2004,2021,2021,2021,2021,2020,2021,2018,2021,2010,2021,2009,2021,2021,2021,2021,2021,2021,2021,2020,2021,2021,2021,2019,2021,2021,2018,2021,2021,2019,2021,2021,2021,2021,2020,2021,2016,2021,2021,2021,2021,2021,2020,2021,2021,2021,2021,2018,2021,2021,2021,2021,2021,2019,2017,2021,2018,2021,2021,2021,1994,2021,2021,2021,2021,2021,2021,2021,2018,2021,2021,2020,2020,2010,2021,2021,2021,2021,2021,2020,2021,2009,2015,2021,2017,2020,2017,2003,2013,2019,2021,2020,2004,2005,1982,2021,2015,2016,2016,2021,2021,2021,2020,2021,2021,2021,2021,2021,1994,1993,2003,2001,2010,1989,2014,2015,2007,2011,1990,1991,1994,2021,1998,1999,2005,2018,2021,2020,1986,2010,2018,2003,2010,2020,1996,2017,2003,1999,2020,1984,2008,2001,2006,2020,2020,2020,2019,2020,2020,2016,2017,2020,2018,2020,1997,2017,2003,2015,2003,1980,1986,1961,2014,1996,2000,2008,1993,2021,2019,2020,2008,2020,2020,2016,2020,2020,2019,2021,2017,2008,2021,2020,2008,2018,2021,2006,2004,2003,2005,2016,2012,2001,2010,2008,2010,2020,2015,2020,2015,2019,2011,2013,2011,2014,2021,2020,2007,2011,2011,2019,2020,2020,2020,2020,2020,2020,2020,2020,2019,2018,2019,2016,2019,2019,2003,2019,2019,2019,2019,2019,2021,2021,2021,2014,2020,2021,2021,2021,2021,2021,2018,2020,2019,2021,2019,2018,2019,2019,2019,2016,2019,2019,2019,2021,2021,2021,2021,2021,2011,1995,2018,2015,2021,2014,2021,2019,1993,2021,2019,2019,2019,2019,2015,2016,2016,2021,2020,2021,2021,2020,2020,2015,2021,2015,2016,2021,2015,2016,2021,2016,2021,2021,2019,2016,2020,2021,2021,2013,2019,2019,2018,2018,2018,2018,2019,2018,2018,2019,2018,2019,2019,2019,2019,2018,2018,2021,2017,2012,2021,2021,2017,2021,2020,2021,2021,2013,2013,1985,2021,1993,2019,2018,2017,1925,2015,2018,2018,2017,2018,2018,2016,2021,2012,2017,2021,2017,2012,2018,1995,2010,2011,2021,2018,2018,2018,2018,2018,2018,1992,2018,2018,2004,2018,2018,2015,2015,2014,2017,2016,2016,2016,2016,2010,2016,2015,2017,2015,1993,2007,2016,2002,2009,2016,1999,1986,2019,2006,2015,2007,2017,2010,1999,1995,1991,2017,2010,2007,2009,2008,2016,1994,2015,2008,2009,2019,2003,2000,2004,2016,2013,1991,2011,2010,2004,1995,2000,2010,2012,2015,2014,2018,2014,2009,2010,2016,2013,2017,2021,2019,2016,2021,2016,2016,2016,2016,2016,2016,2012,2014,2019,2021,2020,2021,2021,2021,2021,2021,2012,2021,2018,2019,2016,2012,2021,2016,2015,1991,2016,2015,2013,2017,2015,2017,2015,2016,2016,2016,2016,2017,2021,2021,2021,2021,2013,2009,2011,2021,2010,2013,2013,2009,2013,2013,2012,2013,2018,2018,2018,2016,2015,2015,2015,2019,2012,2021,2020,2011,2011,2020,2012,2019,2021,2021,2017,2010,2016,2005,2018,2018,2016,2014,2021,2021,2020,2021,2021,1999,2017,2017,2011,2012,2010,2009,2008,2021,2014,2009,2010,2016,2019,2015,2016,2018,2016,1983,2021,2021,2021,2007,2019,2021,2018,1996,2019,2015,2017,2020,2015,2016,2018,2016,2016,2016,2012,2017,2018,2021,2021,2021,2012,2016,2015,2017,2017,2014,2017,2018,2018,2015,2014,2012,2015,2008,2019,2013,2014,2016,2013,2017,2020,2021,2021,2019,2021,2020,2010,2021,2021,2021,2019,2021,2021,2020,2021,2020,2021,2021,2019,2021,2021,2021,2019,2016,2020,2021,2020,2019,2020,2012,1976,2018,2019,2018,1959,2021,2020,2021,2021,2020,2013,2021,2018,2012,1997,2002,1997,1999,1997,2021,2000,1995,1993,2019,2021,2019,2008,2011,2010,2019,2005,1988,1995,2016,2011,2001,2018,2021,1992,2020,2015,2019,2008,2010,2000,2009,1999,2019,2006,2010,2019,1997,1984,1986,1989,2003,1980,2006,2008,2002,2010,2003,2012,2009,2020,1998,1998,2019,2021,2020,2019,2020,2021,2021,2021,2020,2019,2012,2018,2019,2010,2021,2021,2021,2004,2016,2003,2021,2014,2016,2015,2021,2021,2019,2020,2019,2020,1988,1981,1982,2018,2021,2021,2020,2021,2019,2021,2015,2020,2021,2021,1981,2021,2018,2019,2012,2021,2019,2020,2016,2021,1972,2013,2021,2020,2005,2014,2021,2014,2020,2021,2021,2021,2021,2021,2021,2014,2012,2021,2014,2015,2019,2021,2013,2021,2014,2018,2020,2021,2021,2021,2021,2021,2021,2021,2020,2021,2019,2020,2012,2001,2009,2000,1997,2021,2011,2013,2003,2001,2015,2008,2010,1997,2019,2011,2001,1997,2004,2012,2011,2009,2006,2006,2015,2014,2004,1984,2001,2017,1981,2005,2015,2021,2017,1996,1976,2021,2018,2019,2019,2018,2021,2021,2016,2021,2021,2021,2021,2014,2021,2018,2021,2021,2021,2015,2021,2021,2021,2009,2011,2020,2011,2014,2017,1998,2006,2020,2021,2021,2016,2021,2020,2021,2021,2021,2021,2020,2021,2021,2020,2018,2020,2021,2004,2018,2021,2021,2020,2020,2019,2021,2017,2021,1999,2020,2021,2021,2017,2020,2017,2020,2021,2013,2019,2017,2021,2018,2020,2006,1989,2010,2005,2010,2009,2018,2012,2003,2008,2018,2020,1994,2009,2018,2011,2009,2002,2000,2016,2018,1992,2017,2008,2021,2018,2021,2021,2014,2011,2018,2020,2021,2021,2019,2019,2019,2017,2016,2014,2013,2015,2004,2015,2021,2015,2015,2016,2021,2017,2015,2020,2020,2020,2020,2001,2021,2018,2017,2021,2015,2021,2019,2020,2016,2021,1992,2011,2010,2008,2001,2004,2010,2007,2021,2021,2021,2015,2013,2020,2020,2013,2020,2017,2017,2021,2020,2016,2019,2019,2021,2012,2014,1981,2021,2020,2020,2020,2021,2017,2021,2018,2018,2020,2019,2021,2016,2021,2021,2021,2020,2018,2019,2017,2021,2020,2021,2020,2020,2013,2006,2018,2012,2021,2019,2018,2021,2021,2021,2008,2017,2009,2009,2012,2019,2010,2015,2016,2001,2020,1996,1964,2017,2017,2017,2017,2016,2017,2010,2021,2019,2002,2009,1999,2016,2017,2008,2018,2021,2020,2021,2021,2018,2013,2012,2021,2021,1998,2020,2020,2021,2021,2021,2021,2021,2021,2020,2013,2020,2020,2020,2021,2020,2021,2021,2021,2020,2014,2020,2017,2021,2021,2014,2021,2012,2021,2016,2020,2015,2020,2015,2020,2020,2021,2020,2010,2013,2021,2016,2021,2020,2020,2021,2021,2021,2021,2020,2021,2021,2020,2013,2013,2021,2021,2014,2020,2021,2019,2021,2021,2009,1990,2018,2019,1988,2006,2011,2021,2016,2021,2006,2015,2011,2021,2008,2014,2021,2019,2020,2021,2020,2021,2021,2013,2016,2020,2018,2021,2020,2017,2021,2020,2019,2018,2018,2021,2002,2017,2018,2021,2020,2021,2019,2021,2021,2018,2020,2012,2021,2021,2021,2008,2021,2021,2019,2016,2020,2017,2017,2020,2021,2021,2021,2020,2021,2020,2020,2020,1997,2019,2010,2008,2020,2005,2020,2018,2021,2021,2021,2019,2021,2019,2021,2020,2021,2018,2020,2010,2021,2020,2020,2020,2020,2013,2016,2020,2018,2020,2021,2014,2019,2021,2020,2021,2021,2021,2011,2020,2017,2021,2019,2020,2021,2011,2005,2005,2021,2003,2021,2018,2021,2020,2016,2020,2020,1999,2012,2020,2014,2009,1987,2020,2013,1997,2009,2007,2017,2011,1988,2014,2019,2011,2021,1993,2017,2014,2020,2019,2020,2020,2020,2011,2020,2020,2020,2020,2019,2020,2019,2018,2019,2012,2020,2020,2020,2020,2020,2020,2020,2018,2019,2020,2012,2020,2020,2006,2020,2004,2009,2020,2018,2019,2017,2019,2020,2019,2020,2020,2012,2016,2013,2016,2020,2020,2020,2018,2019,2020,2020,2020,2020,2020,2006,2020,2020,2020,2016,2013,2019,2019,2020,2020,2020,2020,2020,2016,2020,2020,2020,2020,2020,2020,2020,2020,2020,2019,2018,2020,2013,2020,2020,2014,2020,2009,2014,2014,2006,2020,2018,2020,1990,2006,2018,2020,2020,2018,2019,2020,2020,2020,2020,2020,2020,2020,2020,2018,2020,2020,2017,2020,2020,2020,2020,2015,2020,2020,2020,2020,2018,2020,2013,2019,2020,2020,2020,2004,2011,2010,2015,2010,2016,2011,2016,2020,2018,2009,2020,2020,2016,2017,2017,2013,2018,2020,1954,2019,2020,2020,2020,2020,2020,2008,2018,2013,2020,2019,2008,2020,2006,2020,2020,2019,2016,2020,2019,2020,2020,2012,2020,2016,2018,2020,2020,2020,2018,2019,2020,2020,2018,1989,2018,2018,2016,2012,1994,2020,2017,2018,2019,2020,2017,2020,2016,2020,2020,2013,2020,2013,2020,2020,2020,2020,2020,2009,2018,2019,2019,2020,2020,2018,2017,2020,2018,2019,2018,2018,2020,2020,2020,2020,2020,1975,2005,2013,2014,2017,1991,2017,2012,2003,1982,2007,1999,2018,1980,2005,2012,2020,2020,2018,2016,2020,2020,2014,2020,2016,2018,2017,2020,2020,2020,2020,2004,2020,1990,1982,2015,2006,2002,2017,2020,2018,2020,2020,2004,2020,2020,2020,2019,2020,2017,2020,2020,2018,2016,2018,2020,2020,2020,2020,2017,2020,2020,2020,2017,2019,2013,2016,2019,2019,2016,2019,2005,2020,2020,2018,2020,2019,2020,2012,2020,2020,2002,2013,2014,2008,2003,2009,2007,1999,2007,2007,2015,2016,2019,2011,2020,2020,2020,2018,2016,2017,2017,2016,2016,2016,2019,2013,2015,2014,2013,2016,2014,2020,2020,2014,2020,2020,2020,2018,2020,2020,2020,2016,2020,2020,2020,2002,2013,2018,2020,2014,2014,2020,2018,2018,2019,2019,2018,2017,2020,2019,2018,2016,2017,2018,2020,2020,2020,2020,2020,2020,2020,2020,2010,2010,2020,2020,2010,2019,2019,2015,2020,2018,2020,2020,2009,2020,2018,2016,2020,2020,2019,2016,2011,2008,1998,2018,2020,2020,2011,2020,2020,2020,2020,2020,2020,1998,2020,2016,2019,2020,2016,2020,2020,2020,2020,2019,2020,2019,2017,2020,2018,2012,2014,2020,2020,2009,2020,2018,2020,2020,2019,2016,2012,2018,2020,2014,2020,2020,2020,2020,2018,2020,2020,2020,2020,2020,2020,2020,2020,2017,2020,2020,2020,2019,2020,2017,2020,2018,2020,2020,2020,2020,2017,2020,2016,2019,2020,2020,2019,2020,2020,2020,2016,2020,2020,2019,2020,2020,2020,2015,2020,2019,2019,2019,2020,2018,2020,2019,2020,2018,2019,2018,2020,2019,2020,2020,2016,2020,2018,2020,2020,2019,2018,2020,2018,2012,2019,2012,2011,2012,2013,2013,2016,2013,2015,2015,2015,2014,2020,2013,2013,2014,2020,2020,2011,2014,2012,2014,2019,2019,2012,2015,2014,2011,2013,2011,2013,2020,2020,2017,2020,2019,2020,2019,2019,2020,2015,2019,1999,2014,2007,2019,2019,1990,2020,2019,2020,2011,2020,2019,2020,2020,2019,2016,2019,2020,2015,2006,2020,2020,2020,2020,2020,2017,2017,2019,2020,1997,2020,2020,2020,2020,1994,2020,2020,1979,1989,1982,1958,1956,2019,2020,1963,2010,1954,1970,2014,2018,2018,2020,2012,2016,2013,2019,2019,2020,2020,2020,2020,2018,2014,2008,2020,2009,2018,2017,2020,2020,2018,2020,2016,2014,2020,2019,2019,2020,2017,2017,2007,2017,2020,2008,2006,2012,2008,2004,2006,2011,2019,2009,2020,2017,2019,2018,2017,2016,2016,2019,2018,2020,1999,2014,2015,2020,2019,2020,2019,2019,2019,1996,2020,2020,1982,2019,2018,2020,2020,2018,1981,2019,1984,1979,1981,1973,2019,1985,1976,2010,2020,2014,2010,2020,2020,2006,2009,2012,2007,2008,2009,2020,2006,2004,2013,2012,2005,2019,2019,2017,2019,2020,2020,2017,2018,2019,2018,2020,2018,2018,2018,2012,2020,2019,2020,2010,1994,2020,2020,2020,2020,2020,2020,2016,2019,2020,2018,2020,2020,2019,2020,2019,2020,2019,2020,2020,2020,2020,2018,2019,2020,2013,2008,2012,2020,2020,2020,2007,2003,2020,2020,2020,2020,2020,2016,2019,2019,2020,2020,2020,2010,2006,2016,2008,2011,2016,2017,2016,2009,2005,2019,2012,2019,2020,2020,2020,2005,2006,2011,2010,2009,2008,2009,2019,2020,2016,2019,2019,2020,2020,2018,2019,2019,2020,2020,2020,2018,2020,2020,2020,2019,2019,2020,2016,2015,2020,2015,2019,2018,2019,2020,2020,2018,2018,2019,2020,2019,2020,2019,2020,2019,2010,2017,2019,2017,2019,2017,2019,2020,2020,2017,2020,2019,1990,2015,2012,2020,2008,1984,1998,1980,2013,1993,2014,2014,2005,2006,2001,2003,2016,1998,2015,2014,1987,2020,2017,2010,2014,2018,2020,2017,2019,2016,2017,2019,2018,2019,2020,2019,2020,2020,2020,2019,2020,2020,2019,2019,2020,2019,2018,2020,2020,2020,2017,2019,2020,2020,2019,2020,2020,2017,2017,2016,2020,2014,2019,2020,2019,2018,2019,2020,2019,2020,2020,2019,2019,2020,2020,2020,2017,2020,2019,2019,2020,2020,2020,2016,2017,2019,2010,2019,2005,2016,2018,2019,2020,2019,2019,2011,2020,2019,2019,2020,2016,2011,2016,2017,2007,2018,2019,2020,2017,2015,2020,2019,2020,2016,2015,2015,2016,2014,2020,2019,2019,2018,2020,2019,2020,2020,2012,2018,2015,2019,2015,2017,2016,2016,2017,2019,2019,2017,2020,2010,2019,2018,2019,2019,2015,2020,2017,2020,2019,2018,2019,2019,2019,2018,2020,2019,2014,2019,2020,2020,2020,2019,2020,2019,2020,2016,1994,2017,2018,2019,2019,2019,1999,2020,2016,2017,2020,2009,2018,2020,2019,2020,2017,2019,2015,2020,2020,2020,2004,2020,2019,2019,2020,2013,2020,2019,2011,2019,2015,2019,2015,2018,2019,2017,2019,2020,2019,2018,2019,2020,2014,2020,2017,2020,2020,2017,2018,2014,2007,2008,2009,2020,2015,2001,2019,2015,2020,2006,2018,2017,2009,2019,2019,2019,2019,2018,2019,2013,2018,2019,2019,2019,2017,2019,2019,2017,2019,2015,2019,2019,2018,2019,2019,2017,2014,2015,2019,2019,2019,2019,2018,2015,2015,2018,2001,2015,2006,2011,2013,2011,2012,2007,2017,2010,2004,2009,2017,2008,2019,2012,2018,2011,2019,2016,2017,2016,2019,2019,2018,2019,2019,2017,2019,2019,2017,2019,2019,2017,2017,2019,2017,2017,2019,2016,2017,2019,2019,2019,2019,2014,2019,2019,2019,2017,2017,2018,2019,2017,2019,2015,2019,2019,2019,2018,2019,2016,2018,2017,2018,2019,2008,2019,2019,2019,2019,2019,2018,2019,2019,2019,2017,2019,2015,2019,2019,2019,2019,2019,2019,2019,2019,2019,2014,2015,2013,2019,2019,2019,2019,2019,2019,2011,2019,2018,2013,2019,2009,2019,2019,2019,2016,2019,2018,2019,2019,2017,2019,2019,2019,2016,2019,2014,2012,2017,2017,2013,2016,2015,2010,2015,2019,2019,2017,2018,2019,2019,2019,2018,2019,2019,2019,2007,2016,2019,2019,2016,2019,2019,2019,2018,2006,2019,2014,2019,2019,2019,2018,2019,2019,2019,2018,2019,2016,2018,2017,2018,2019,2017,2019,2017,2019,2019,2018,2019,2019,2017,2019,2019,2019,2015,2018,2014,2019,2019,2017,2019,2019,2019,2019,2019,2019,2019,2019,2019,2018,2019,2019,2019,2019,2019,2019,2018,2016,2018,2017,2019,2000,2019,1998,2005,2019,2019,2019,2018,2019,2019,2019,2013,2019,2019,2019,2019,2019,2019,2018,2009,2019,2019,2019,2018,2019,2019,2019,2012,2019,2006,2019,2019,2019,2018,2019,2019,2019,2019,2019,2018,2018,2019,2019,2016,2019,2012,2006,2014,2004,2019,2018,2017,2019,2019,2018,2019,2019,2019,2019,2016,2019,2018,2019,2019,2019,2019,2018,2019,2019,2019,2015,2019,2019,2019,2019,2019,2019,2019,2019,2019,2019,2018,2018,2019,2019,2019,2014,2012,2019,2016,2015,2015,2014,2018,2016,2019,2017,2017,2019,2018,2019,2019,2018,2019,2019,2019,2019,2018,2018,2008,2013,2004,2007,2018,2019,2019,2019,2018,2018,2019,2019,2018,2019,2019,2017,2019,2019,2019,2016,2019,2013,2019,2019,2019,2018,2017,2019,2019,2012,2019,2019,2019,2019,2019,1998,1997,2019,2019,2019,2019,2019,2015,2018,2019,2019,2018,2019,2019,2019,2019,2019,2019,2019,2019,2018,2019,2019,2019,2019,2019,2018,2019,2019,2016,2015,2019,2014,2019,2017,2019,2019,2019,2019,2019,2019,2019,2019,2019,2019,2019,2019,2018,2019,2019,2019,2014,2016,2018,2019,2019,2019,2019,2018,2019,2018,2019,2018,2019,2018,2018,2019,2011,2018,2019,2018,2019,2019,2019,2019,2019,2019,2018,2019,2018,2013,2018,2019,2018,2019,2019,2019,2018,2015,2019,2019,2018,2019,2019,2018,2019,2019,2019,2019,2014,2019,2013,2019,2001,2005,2018,2003,2003,2003,2018,2005,2016,2018,2019,2014,2013,2019,2019,2019,2019,2019,2018,2019,2019,2019,2016,2018,2019,2018,2019,2015,2019,2016,2018,2017,2019,2018,2019,2019,2019,2019,2017,2008,2019,2018,2018,2017,2018,2019,2019,2014,2016,2016,2016,2016,2019,2018,2019,2014,2018,2017,2019,2018,2006,2011,2012,2008,2018,2018,2007,2016,2016,2017,2017,2019,2018,2019,2019,2019,2018,2012,2014,2015,2015,2019,2015,2011,2018,2018,2018,2018,2018,2018,2018,2014,2018,2012,2019,2018,2008,2018,2018,2015,2015,2014,2017,2018,2013,2013,2017,2014,2015,2012,2006,2018,2018,2019,2019,2019,2018,2018,2001,2017,2018,2015,2018,2018,2017,2018,2012,2017,2004,2012,2015,2018,2006,2002,2018,2008,2018,2019,2018,2019,2019,2019,2018,2019,2018,2017,2016,2018,2014,2018,2017,2019,2019,2018,2017,2010,2010,2017,2018,2018,2012,2018,2016,2015,2017,2018,2018,2018,2018,2018,2017,2019,2019,2018,2019,2018,2016,2018,2017,2018,2018,2019,2016,2017,2018,2017,2019,2018,2019,2018,2018,2018,2018,1999,2018,2018,1975,2015,2018,2012,2017,2017,2017,2018,2013,2010,1991,1992,1993,1989,2016,1987,1991,1991,2018,1990,2011,2008,2012,2011,2019,2018,2012,2018,2018,2018,2018,2018,2018,2011,2018,2012,2015,2014,2018,2018,2018,2018,2018,2014,2014,2014,2018,2014,2018,2017,2018,2018,2017,2018,2018,2018,2018,2018,2018,2018,2018,2018,2018,2018,2018,2018,2018,2011,2009,2018,2018,2013,2014,2014,2018,2011,2014,2015,2015,2016,2009,2010,2017,2013,2008,2018,2018,2018,2018,2018,2018,2018,2018,2018,2018,2018,2018,2018,2018,2018,2007,2018,2018,2018,2018,2018,2017,2018,2018,2015,2018,2018,2017,2018,2009,2017,2018,2018,2018,2018,2018,2018,2018,2009,2008,2015,2013,2011,2018,2012,2010,2018,2006,2007,2009,2010,2018,2017,2015,2013,2012,2007,2012,2013,2012,2013,2013,2012,2006,2015,2007,2013,2008,2014,2011,2008,2010,2014,2013,2013,2014,2015,2017,2016,2008,2011,2018,2015,2006,2018,2018,2018,2018,2018,2018,2018,2018,2012,2018,2015,2018,2018,2018,2013,2016,2018,2018,2018,2017,2018,2018,2018,2018,2018,2018,2018,2018,2018,2018,2018,2018,2018,2018,2018,2018,2018,2008,2017,2017,2017,2012,2014,2000,1982,2014,2017,1979,2018,1989,2013,2016,2017,2009,2014,2016,2009,2009,2014,2012,2013,2014,2009,2018,2017,2014,2008,2015,2009,2018,2014,2009,2008,2009,2016,2012,2005,2017,2016,2012,2011,2011,2018,2018,2009,2014,2013,2013,2016,2016,2015,2014,2013,2008,2013,2015,2017,2012,2013,2016,2010,2018,2009,2010,2015,2016,2012,2018,2018,2018,2018,2018,2018,2018,2018,2018,2018,2018,2018,2018,2018,2018,2014,2018,2018,2017,2018,2018,2017,2018,2017,2018,2018,2017,2017,2017,2012,2018,1998,2018,2018,2017,2017,2017,2018,2017,2017,2018,2018,2018,2015,2018,2018,2018,2018,2014,2016,2018,2018,2018,2011,2011,2008,2016,2000,2010,2014,2014,2010,2012,2009,2016,2010,2018,2006,2012,2015,2012,2011,2005,2018,2017,2005,2012,2017,2018,2018,2018,2018,2018,2018,2018,2018,2018,2018,2018,2018,2018,2018,2018,2018,2018,2018,2018,2013,2012,2012,2012,2018,2006,2013,2003,2013,2018,2010,2018,2007,2015,2010,2017,2018,2012,2017,2018,2018,2018,2018,2018,2018,2014,2018,2016,2018,2018,2018,2018,2017,2018,2017,2017,2018,2018,2018,2018,2018,2018,2017,2017,2018,2015,2018,2018,2018,2018,2018,2018,2017,2007,2017,2018,1979,2018,2017,2018,2018,2018,2018,2007,2018,2018,2018,2018,2018,2018,2016,2018,2017,2017,2018,2017,2017,2017,2017,2018,2017,2018,2018,2008,2016,2017,2017,2018,2017,2017,2018,2017,2018,2018,2018,2017,2018,2018,2018,2018,2018,2018,2017,2017,2018,2018,2017,2018,2018,2018,2017,2018,2018,2017,2018,2018,2018,2017,2017,2009,2012,2004,2016,2007,2005,2000,2017,2018,2018,2018,2018,2009,2006,2018,2016,2018,2016,2018,2018,2017,2018,2018,2016,2016,2017,2017,2018,2018,2018,2018,2018,2018,2017,2018,2018,2017,2018,1998,2007,2017,2016,2016,2017,2017,2004,2014,2014,2014,2008,2004,2016,2004,2017,2018,2017,2018,2017,2017,2018,2018,2018,2018,2018,2018,2018,2018,2018,2018,2018,2017,2017,2017,2016,2017,1998,2017,2018,2018,2018,2017,2017,2018,2018,2018,2018,2018,2017,2018,2017,1980,1986,2017,2017,2018,2017,2018,2017,2016,2018,2017,2017,2010,2017,2017,2016,2017,2017,2017,2017,2017,2017,2017,2017,2017,2016,2017,2017,2017,2017,2015,2017,2017,1986,1991,2006,2017,2017,2017,2017,2017,2017,2017,2017,2017,2017,2016,2017,2017,2017,2016,2017,2017,2017,2017,2017,2017,2017,2017,2017,2017,2017,2017,2002,2016,2017,2017,2015,1978,2016,2016,2016,2017,2017,2016,2017,2017,2017,2016,2015,2017,2017,2017,2017,2017,2017,2017,2015,1960,2016,2016,2017,2017,2017,2017,2016,2017,2017,2017,2017,2012,2017,2016,2017,2016,2016,2017,2017,2017,2017,2017,2015,2017,2014,2017,2017,2016,2017,2017,2017,2017,2017,2017,2017,2017,2017,2017,2016,2017,1988,2012,2013,2006,1983,1973,2017,1974,1989,2016,2017,2016,1984,2016,2016,2016,2017,2016,2017,2016,2017,2017,2017,2011,2017,2017,2015,2017,2017,2015,2017,2015,2017,2017,2015,2015,2016,2017,2017,2017,2017,2017,2017,2015,2015,2017,2016,2016,2016,2016,2016,2015,2017,2017,2017,2016,2017,2017,2017,2017,2017,2017,2017,2014,2014,2017,2017,2012,2016,2011,1966,2018,1971,2013,1962,2016,1994,2016,2017,2017,2015,2017,2017,2016,2017,2017,2017,2017,2017,2017,2017,2017,2017,2017,2016,2016,2017,1993,2017,2016,2017,2017,2015,2016,2017,1993,2017,1995,1969,1998,2016,2017,2011,2017,2017,2017,2017,2017,2017,2016,2017,2017,2017,2017,1992,1994,2016,2010,1995,2016,2016,2017,2017,2017,2017,2017,2017,2017,2016,1996,1996,2016,2016,2017,2017,2015,2016,2016,2017,2017,2017,2016,2016,2016,2017,2017,2017,2017,2017,2014,2014,2016,2017,2016,2016,2016,2017,2016,2016,2017,2017,2016,2017,2016,2016,1971,2015,2014,2010,1975,2017,2016,2016,2016,2017,2017,2016,2017,2016,2017,2017,2016,2017,2016,1992,2001,2006,2016,2001,2017,2016,2017,2013,2017,2016,2017,2016,2015,2015,2017,2017,2016,2016,2016,2016,2015,2010,2016,2015,2017,2017,2016,1977,2017,2017,2014,2015,2014,2015,2016,2016,2014,2017,2015,2016,2017,2016,2017,2017,2016,2017,2017,2008,2014,2014,2014,2016,2016,2017,2015,2017,2016,2017,2013,2016,2016,2017,2016,2007,2011,2016,2016,2016,2016,2016,2016,2016,2016,2015,2015,2012,2016,2016,2016,2016,2015,2016,2016,2016,2016,2016,2016,2016,2016,2016,2014,2013,2015,2015,2016,1979,2016,2016,2016,2016,2012,2016,2012,2016,2016,2012,2016,2016,2016,2016,2016,2015,2016,2015,2016,2016,2016,2016,2016,2016,2016,2016,2016,2012,2008,2010,2015,2016,2016,2016,2016,2016,2016,2015,2010,2016,2015,2016,2015,2016,2015,2016,2013,2016,2016,2016,2016,2016,2016,2012,2016,2016,2016,2016,2005,2009,2012,2014,2016,2011,1994,2008,2008,2016,2016,2016,2015,2016,2016,2016,2015,2016,2016,2015,2016,2020,2016,2016,2016,2016,2016,2016,2007,2016,2015,2016,2016,2016,2016,2015,2016,2016,2008,2010,2016,2015,2015,2015,2015,2015,2015,2015,2015,2015,2015,2015,2015,2015,2015,2015,2015,2015,2014,2015,2015,2015,2014,2015,2015,2015,2015,2014,2015,2015,2015,2015,2015,2015,2015,2014,2014,2014,2014,2014,2014,2014,2014,2014,2013,2014,2013,2013,2013,2013,2011,1988,1986,1986,1990,1988,1987,1989,1988,1991,1990,1991,2000,2010,2009,2007,2006,2009,2008,1997,2019,2008,2014,2018,2019,2018,2017,2017,2015,2018,2017,2010,2005,2014,2017,2008,2016,2017,2015,2014,2010,2018,2006,2009,2019,2018,2013,2003,2018,2016,2013,2016,2017,2018,2017,2000,2015,2016,2018,2016,2011,1989,2017,2015,2014,2004,2011,2012,2017,2014,2017,2019,2018,2017,2017,2016,2016,1977,1971,1993,2015,2016,2016,2012,2012,2017,2013,2019,2011,2016,2018,2014,2014,1998,2015,2015,2013,2011,2011,2016,2011,2009,2015,2015,1996,2012,2002,2008,2017,2018,2019,2018,2018,2011,2017,2013,2011,2010,2010,2015,2016,2017,2012,2002,2015,2016,2015,2007,2012,2010,2014,2013,2017,2018,2012,2018,2008,2012,2018,2006,2012,2015,2004,2016,2018,2017,2017,1974,2017,2018,2016,2018,1989,2019,2016,2018,2006,2018,2016,2001,2013,2014,2017,2019,2015,2016,1977,2011,2016,2017,1999,2017,2017,2018,2018,2019,2014,1998,2016,2018,2000,2019,2015,2013,1986,1991,1999,2000,2012,2018,2014,2017,2017,2015,2001,2003,2015,2013,2016,2015,2016,2018,2017,2018,2018,2007,2017,2016,2011,2015,2015,2018,2011,2011,2011,2014,1997,2019,2016,2016,2018,2012,2014,2016,1994,2014,2018,2017,2016,2013,2005,2006,2016,2016,2014,2019,2015,1995,2003,2017,2016,2006,2019,1995,2001,2004,2017,2015,2017,2011,2015,2010,2002,2009,2015,2009,2017,2013,2010,2015,2015,2016,2010,2011,2016,2012,2017,2015,2013,1995,1998,1992,2018,1972,1982,2015,2016,2013,1997,1996,1992,2008,2016,2007,2008,2016,2015,2017,2016,2015,2016,2019,2004,1978,2012,2018,2017,2005,2010,2014,2013,2018,2006,2007,2003,2017,2017,1999,2002,2018,2017,2017,2002,2010,2000,2018,2017,2015,2018,2017,2016,2018,2012,2019,2001,2018,2017,2007,2017,2013,2015,2018,2016,2015,2017,2016,2001,2013,2013,2016,2013,2017,1999,2010,2017,2018,2015,2017,1973,2018,2016,2017,2008,2017,2015,1967,2003,2017,2016,2013,2016,2018,2007,2013,2016,2015,2018,2005,2017,2009,2017,2016,2017,2017,2018,2016,2018,2010,2017,2018,2017,1960,2016,2016,2014,2016,2018,2015,2017,2017,2014,2016,2017,2014,1998,1992,2019,2017,2016,2008,2015,1976,2009,2012,2006,1992,1992,1958,2015,2010,2018,2016,2012,2000,2014,2010,2000,2017,2010,2018,2016,2017,2005,2003,1973,2013,1997,2018,2017,2016,2015,2018,2018,2012,2019,2017,2005,2018,1988,2017,2017,2012,1968,2009,2017,2014,2012,2015,2004,2018,2006,2017,1975,2009,2002,2016,2019,2010,1993,2018,1973,2006,2017,2013,2012,2014,2008,2005,2007,2017,2016,2015,2008,2016,2017,2002,2016,2016,2013,2014,2017,2014,2008,2014,1967,2017,2009,2018,2016,2016,2004,2016,2000,2017,2013,2015,2015,1989,2003,2019,2015,2017,2015,2013,2017,2016,2015,1997,2016,2016,2015,2017,2003,2016,1991,2017,2018,2015,2018,2006,2018,2016,2016,2012,2011,2010,2017,2017,2018,2002,2016,2018,2014,2018,1992,2017,2017,2016,2019,2016,2017,2004,2007,2018,2017,2015,2002,2002,2010,1985,2017,2017,2009,1965,2016,2019,2014,2019,2015,2015,2010,2015,2016,2017,2016,2016,2016,1997,2005,2018,1989,2008,2017,2003,2018,1996,2015,2000,2017,2017,2017,2014,2003,2003,2016,2014,2015,2010,2010,1983,2018,2015,2009,2004,2012,2017,2017,2006,2016,2019,2014,2015,2016,2016,2015,2016,2016,2016,2014,2006,2002,2012,2013,2016,2018,1973,2015,2002,1990,1985,2016,2018,2007,1997,2019,2019,2008,2001,2015,1996,2013,2012,2001,2019,2010,2011,2014,2017,2017,2011,2019,1998,2017,2015,2019,2014,2017,2017,1998,2017,1971,2015,2008,2017,2017,2015,2000,2003,2006,2016,2013,2018,2017,2016,2015,2019,1982,2008,2016,2018,2017,1978,2017,2015,2010,2015,2012,2019,2018,1977,2017,1956,2018,2016,2011,2008,1994,2007,2012,2018,2007,1993,2015,2016,2015,2019,2009,2016,2017,2010,2016,2011,2017,2008,2015,2016,2019,2017,2009,2017,2013,2017,2002,2009,2011,2016,2016,2018,2003,2011,2010,2014,2008,2005,1990,2017,2013,2007,2014,2013,2018,1997,2005,1958,2012,2013,2012,2018,2016,2017,2014,2018,2017,1979,2013,1995,2019,2016,2006,2018,2015,2016,2014,2019,2012,2005,2014,1990,2017,2011,2018,2001,2003,2015,2008,2013,2017,1978,2015,2016,2016,2016,2015,2015,2015,2013,2013,2014,2007,2009,2015,2000,1987,2017,2017,2013,2017,2017,2014,2015,2015,2008,2004,2015,2010,2017,2015,2016,1999,2017,2018,2017,2016,2011,2015,2018,2018,1998,2017,2001,2017,2016,2015,2016,2004,2013,2018,1976,2016,1997,2017,2010,2016,2015,2019,2015,2010,2017,2005,2016,2017,2015,2006,2015,2016,2016,2008,2010,2017,2011,2018,2011,2018,2018,2017,2013,2013,2016,2017,2016,2016,2007,1975,2018,2012,2016,2012,2017,2016,2017,2000,2017,1997,2015,1995,2016,2012,2009,1999,2006,2014,2010,2015,2016,2018,2005,2017,2016,2010,2016,2017,2018,2016,2015,2018,2016,2011,2014,2016,2015,2013,2016,2014,2010,2008,2013,2009,1974,2017,2017,2014,2019,2017,2017,2015,2018,2014,2008,1989,1981,1984,2016,2013,2016,2009,2008,2005,2013,2016,2015,2004,2003,2013,2002,2009,2018,2017,2006,2010,2018,2014,2012,2015,2018,2013,1995,2015,2017,2014,2006,2018,2016,1997,2015,2009,2013,2012,2016,2001,1973,2015,2014,2018,2016,1973,2017,2005,2012,2013,1960,2018,2015,2017,2017,1997,2011,2009,2011,2005,2018,2015,2005,1992,2011,2002,2017,2015,1981,2017,2016,2016,2014,2010,2016,2017,2008,2001,1982,2006,2017,2005,1990,2014,2011,2013,2010,2017,1993,2006,1980,2003,2018,2017,2017,2016,1995,2015,2015,2018,2003,2004,2016,2015,2016,2011,1988,2010,2016,2014,2015,2005,1996,2017,2015,1997,2013,2015,1945,2009,2016,2012,1972,2014,2013,2016,2012,2015,2013,2017,2017,2004,2010,2010,2017,1998,2012,2000,2017,2004,2016,2017,2017,2013,1987,2016,2016,2016,2011,2016,2006,2010,2017,2019,2015,2010,2017,2014,2010,2003,2011,2011,2011,2017,2014,2010,2017,1982,2018,2010,2018,2014,2013,2016,1946,2014,2018,2014,2018,2017,1990,2018,1997,2018,1992,2015,2012,2013,2014,1983,2016,2016,2016,2000,2016,2014,2016,1998,2013,2012,2017,2015,2018,2019,1976,2017,1962,2015,2017,1990,2015,2015,2012,2017,2019,2010,2017,1994,2018,2011,2015,2014,2016,2006,1995,2016,2005,2018,2015,2017,2017,2012,2014,1979,2008,1987,2016,2016,2017,2016,2017,2013,2018,2016,2013,1981,2005,1989,2017,2018,2013,2015,2016,1983,2017,2014,2016,2014,2017,1999,2017,2017,2017,2016,2016,2018,1986,2002,2017,2016,2013,2017,2018,2014,1983,2016,2017,2006,2013,2014,2017,2016,2017,1988,2016,2016,1973,2017,1985,2017,2017,2003,2017,2018,1997,2002,2016,2009,2018,2009,2015,2016,2016,2008,2017,2004,2012,2016,2015,2014,2017,2011,2016,2017,2018,2014,2015,2016,2017,2015,2019,2017,2003,2016,1997,2016,2017,2017,2013,2014,2015,2012,2014,2013,2011,2014,2012,2016,2015,2010,2013,2013,2005,2013,2009,2016,2015,2015,2016,2013,2011,2016,2017,2013,2016,2002,2015,1984,2007,2012,2012,2004,2014,2014,2007,1962,2010,2005,2017,2013,2016,2015,2013,2016,2015,2014,2001,2015,2009,2017,2012,2011,2014,2017,2006,2016,2017,2016,1982,2016,2011,2017,2016,2016,2004,2016,2016,2015,1993,1945,2016,2018,2004,2016,2007,2017,2018,2013,2014,2008,2005,2018,2018,2016,2007,2020,2019,2019,2017,2018,2017,2017,2017,2017,2018,2017,2017,2018,2017,2017,2017,2017,2018,2017,2017,1995,2016,2009,2012,2015,2013,2013,2016,2014,2009,2018,1960,2007,2004,2015,2015,2016,2011,2012,2017,2013,2012,1983,2017,2016,2018,2018,2018,2018,2019,2015,1968,2016,2013,2018,2018,2017,2016,2013,2015,2006,2016,2016,2018,2016,1984,2017,2017,2014,2019,2018,2018,2006,2015,2007,2017,2007,2007,2002,2016,1988,2015,2015,2002,2000,2018,2007,1997,2017,1990,1992,2011,2017,1992,2014,2009,2016,2009,2013,2018,1988,2016,2006,2016,2017,2007,2016,2016,2018,2015,1993,2015,2009,2012,2017,2018,2018,2017,1946,2002,1998,2018,2006,2010,2016,1986,1980,2018,2018,1980,2016,2018,2018,2014,2017,2013,2013,1942,2013,2015,1996,1984,2017,2018,2019,2000,1994,2014,2012,2011,2019,2008,2015,2008,2009,2008,2013,2015,1980,2015,2015,2016,1996,1974,2018,1985,2018,2005,2018,2010,2017,2016,2011,2011,2016,1955,2018,2016,1984,2017,2017,2015,2012,2015,2015,2010,2017,2013,2010,2017,2016,1980,2016,2014,2017,2008,2012,2008,2015,2013,2011,2010,2015,2016,2018,2016,1976,1979,1982,1985,1990,2017,2014,2018,2015,2014,2015,2017,2012,1968,1998,2016,2017,2016,1995,2005,2004,1999,2018,2018,2015,2013,2016,2016,2003,1982,2013,2014,2016,1983,2014,2016,2012,2016,2016,2007,2014,2017,2017,2013,2018,1945,2008,1964,2014,2010,2010,2014,2015,2016,2005,2017,2008,2018,2012,1982,2017,2017,2018,2013,2019,2014,2017,1955,2013,2000,2013,1993,1988,1998,2010,1997,2000,2012,1993,2012,2011,2007,2015,2013,2013,2013,2013,2014,2014,2012,2010,2017,2011,2010,2008,2016,1999,2019,2011,2002,2012,2002,2002,2011,2008,2010,2009,1990,2016,2018,2017,2016,2013,2009,2016,2017,2004,2017,2014,2018,2012,2016,2013,2015,2017,2017,2016,2015,2014,2016,2016,2014,2017,2010,2015,2004,1996,1993,2015,1998,2008,2015,2016,2005,2018,2013,1991,2018,2018,2009,2017,2003,2014,2016,2011,2019,2016,1976,2017,2019,2007,2018,2018,2015,2012,2015,2018,2001,2002,2003,2015,2018,2019,2015,2015,2017,2013,2006,2008,2018,2017,2010,2010,2014,2014,2017,2020,2019,2006,1992,2016,1981,1996,2016,2002,2019,2015,2011,2018,2014,2014,2019,2015,2014,2018,2017,2014,2007,1972,2006,1999,2016,2017,2016,1977,2007,2017,2016,2016,1980,1999,2008,2011,2014,2015,1999,2005,2013,2016,2017,2010,2016,2007,1991,2010,2016,2017,2015,1990,2003,2009,2015,2017,2016,2012,2020,2016,2016,2018,2015,2016,2005,2011,2007,2016,1995,2005,2019,2019,2010,2015,2013,2000,2016,2016,2017,2015,2016,1993,2018,1942,2016,2018,2016,2015,2016,2001,2016,2013,2010,2015,2010,2009,2016,2008,2007,2019,2017,2006,2017,2005,2007,2017,2019,2017,2018,2014,1977,2017,2017,2017,2016,2016,2010,2016,2015,2013,2016,1965,2010,2018,2016,2013,2011,1996,2013,1994,1970,1992,2015,2009,2011,1982,2018,2015,2017,2006,2017,2017,2017,2012,2018,2015,2009,2016,2016,2005,2007,2015,2015,2017,1981,2016,2016,2020,2012,2015,2018,2010,2009,2009,2014,2019,1996,2016,1978,1994,2000,1975,2008,2017,2017,2014,2020,2016,2016,2013,2015,2003,2018,2019,2011,2014,2018,2017,2016,2009,2014,2015,1979,2005,2011,2017,2008,2017,2018,2011,2017,2015,2017,2016,2005,2016,2013,2017,2014,2018,2016,2009,2014,2018,2018,1995,2009,2016,2018,2009,2015,2010,2011,2015,2007,2013,2017,2010,2006,2017,2016,1992,2010,2016,2018,2014,2018,2019,2017,2016,2017,2018,2015,2006,2015,2017,2019,1974,2008,2014,2003,2002,2008,2016,1982,1993,2017,2009,1998,1999,2003,2003,2018,2017,1944,2009,2016,2016,2018,2012,2015,1991,2011,2017,1988,1984,1944,2018,2016,2018,2014,2008,2010,2001,2017,2018,2016,1997,1993,2012,2004,2013,2006,2014,2017,2012,2012,2015,2012,2004,2017,2004,2014,2018,2004,2009,2017,2019,2006,2018,2015,2008,1997,2010,2015,2016,2017,2016,2016,2016,2011,2002,2014,2016,1994,2016,2011,2014,2011,2015,2014,2012,2001,2015,2016,2019,2014,2014,2017,2017,1955,2014,2015,2013,2010,2016,2013,1978,2010,2019,2015,2017,2015,2017,2018,2009,1999,1974,2013,2016,2017,2002,2009,2017,1996,2016,2015,2016,2002,2009,2011,2016,2016,2013,2015,2017,2015,2014,2007,1998,2006,2017,2015,2018,2016,2016,2017,1999,2018,2017,2016,1985,2016,2017,1988,2016,2017,2015,2015,2017,2017,2011,2010,2010,2016,2017,1947,2010,2016,2017,2013,2021,2001,2014,2018,2016,1995,2015,2017,1997,1995,2016,2001,2016,2015,2007,2007,2016,1996,2008,2014,2014,2016,2017,2015,1990,2001,2004,2015,2018,2016,1985,1995,2014,2019,2017,2017,1969,2017,2015,2010,2012,1944,2013,2014,2010,2018,2018,2016,2015,2008,2013,2016,2006,2017,2017,2013,2016,1943,2012,2017,2011,2009,2017,2018,2016,2005,2008,2016,2018,2016,2017,2015,2018,2016,2016,2017,2014,2004,2018,2018,2013,2016,2015,2005,2016,2017,2017,2007,2013,2011,2016,2014,2015,2017,2015,2018,2016,2018,2017,2015,1983,2021,2016,2019,2015,2016,2014,2017,1967,2017,2000,2017,2018,2002,2010,2013,2016,2000,2017,2015,2018,2016,2017,1967,2016,2016,1943,1999,2018,2017,1971,2017,2021,1981,2015,2010,2014,2019,2017,2016,2019,2006,2013,2015,2016,1943,1994,2017,2002,2005,2001,2008,2001,2011,2013,2006,2018,2014,2010,2012,2015,2016,2016,2017,2017,2015,2009,2008,2011,1973,2005,2016,2014,2009,2018,2015,2007,2009,2006,2015,2021,2019,2019,2013,2017,2011,2011,2009,2014,2016,2009,2009,2016,2015,2012,2021,2020,2021,2020,2020,2019,2019,2019,2016,2005,2021,2020,2021,2021,2020,2018,2021,2020,2018,2021,2021,2014,2021,2014,1994,2015,2021,2021,2013,2021,2021,2021,2021,2021,2021,2016,2021,2021,2021,2021,2021,2013,2021,2016,2015,1992,2021,2021,2016,2012,2021,2021,2019,2021,2021,2016,2018,2020,2015,2021,2021,2021,2021,2021,2021,2021,2021,2018,2019,2021,2021,2021,2021,2009,2005,2013,2008,2012,2014,2021,2021,2021,2021,2021,2021,2019,2020,2020,2021,2021,2019,2020,2021,2021,2021,2019,2021,2021,2021,2021,2021,2021,2021,2021,2019,2016,2017,2007,2018,2019,2019,2021,2021,2017,2020,2021,2021,2021,2015,2019,2019,2018,2019,2016,2015,2019,2018,2015,2018,2018,2021,2020,2020,2020,2021,2020,2021,2020,2019,2020,2021,2019,2021,2020,2021,2021,2021,2021,2021,2021,2001,2018,2021,2018,2018,2020,2015,2018,2020,2019,2021,2019,2018,2020,2018,2018,2020,2021,2021,2021,2021,2021,2021,2020,2020,2021,2021,2016,2021,2021,2021,2021,2007,2021,2021,2021,2021,2013,2019,2021,2015,2012,1993,2021,2021,2020,2021,2021,2021,2016,2021,2021,2021,2021,2021,2021,1997,2021,2021,2021,2021,2021,2021,2021,2021,2021,2021,2020,2018,2021,2021,2021,2021,2019,2021,2019,2021,2021,2021,2014,2021,2021,2016,2006,2021,2020,2018,2020,2019,2003,2021,2021,2018,2020,2020,2021,2019,2016,2019,2015,2019,2020,2018,2020,2021,2021,2021,2017,2021,2016,2021,2015,2005,2020,2021,2013,2020,2021,2012,2021,2021,2021,2021,2010,2021,2021,2021,2021,2021,2021,2021,2021,2016,2021,2021,2021,2021,2015,2021,2021,2021,2020,2011,2019,2018,2021,2021,2021,2021,2020,2021,2013,2021,2021,2021,2021,2021,2021,2021,2021,2021,2021,2019,2016,1945,2008,2020,2021,2021,2020,2021,2012,2018,2021,2019,2018,2018,2019,2015,2019,2021,2021,2021,2018,2021,2021,2021,2019,2015,2021,2021,2021,2021,2021,2021,2020,2021,2021,2021,2021,2021,2021,2021,2021,2019,2021,2021,2021,2017,2017,2021,2013,2021,2020,2020,2019,2020,2018,2020,2019,2020,2020,2020,2020,2020,2016,2010,2019,2020,2020,2020,2020,2011,2011,2014,2020,2011,2006,2021,2020,2020,2018,2020,2020,2020,2013,2019,2020,2020,2020,2020,2019,2020,2018,2020,2020,2020,2020,2020,2020,2014,2018,2006,2010,2018,2020,2018,2020,2020,2020,1999,2020,2020,2020,2020,2017,2020,2020,2020,2020,2020,2019,2021,2014,2020,2019,2020,2020,2020,2020,2020,1979,2020,2018,2020,2018,2018,2020,2018,2020,2020,2020,2019,2002,2019,2018,2019,2020,2019,2019,2018,2020,2018,2019,2020,2020,2020,2020,2020,2020,2020,2020,2020,2020,2020,2020,2020,2020,2018,2005,2006,2020,2020,2020,2020,2020,2020,2020,2020,2020,2020,2005,2020,2009,2019,2018,2016,2020,2020,2019,2018,2003,2019,2020,2010,2020,2020,2020,2020,2019,2020,2020,2020,2020,2020,2020,2020,2020,2019,2020,2020,2020,2020,2020,2020,2020,2020,2020,2020,2020,2007,2020,2020,2020,2020,2020,2020,2017,2020,2020,2020,2020,2020,2017,2020,2012,2016,2020,2002,2020,1998,2019,2020,2020,2020,2020,2020,2020,2020,2013,2020,2020,2020,2020,2020,2020,2020,2020,2014,2020,2020,2020,2014,2018,2019,2020,2019,2016,2020,2020,2020,2020,2020,2016,2020,2020,2020,2020,2000,2020,2014,2018,2008,2020,2020,2020,2020,2020,2020,2004,2020,2019,2020,2020,2020,2017,2019,2018,2020,2020,2020,2020,2020,2016,2020,2020,2020,2020,2020,2020,2020,2019,2020,2020,2020,1993,2020,2019,2016,2020,2020,2020,2020,2002,2020,2020,2019,2020,2020,2020,2020,2020,2020,2020,2020,2020,2020,2015,2019,2020,2020,2020,2020,2020,2020,2020,2020,2018,2020,2018,2020,2020,2020,1999,2018,2014,2017,2017,2020,2010,2019,2018,2020,2016,2020,2019,2020,2020,2020,2020,2020,2020,2009,2009,2007,2019,2020,2014,2019,2020,2019,2015,2020,2019,2020,2020,2020,2009,2020,2019,2019,2014,2020,2019,2020,2020,2019,2020,2020,2020,2017,2020,2020,2017,2020,2020,2020,2020,2020,2020,2006,2018,2020,2020,2020,2019,2020,2020,2020,2020,2020,2020,2019,2019,2013,2019,2015,2020,2020,1986,2020,2020,2020,2020,2019,2020,2020,2019,2019,2020,2020,2020,2020,2020,2020,2020,2019,2020,2020,2020,2020,2020,2020,2020,2019,2020,2018,2020,2020,2020,2020,2020,2020,2020,2020,2014,2020,2019,2019,2020,2019,2020,2020,2020,2020,2020,2020,2020,2020,2020,2020,2008,2017,2019,2020,2021,2020,2018,2020,2018,2020,2018,2020,2020,2020,2015,2020,2020,2014,2018,2014,2019,2020,2020,2020,2019,2020,2020,2020,2020,2017,2020,2020,2020,2020,2020,2019,2011,2020,2020,2008,2020,2018,2020,2019,2020,2020,2020,2020,2020,2019,2020,2019,2017,2018,2018,2020,2017,2020,2017,2015,2017,2020,2017,2019,2019,2016,2018,2019,2019,2019,2019,2019,2019,2012,2019,2019,2019,2019,2019,2016,2015,2019,2012,2005,2019,2020,2019,2019,2019,2019,2019,2019,2019,2019,2019,2018,2018,2016,2019,2019,2019,2019,2019,2019,2019,2015,2019,2019,2008,2019,2019,2019,2019,2019,2019,2019,2019,2019,2019,2003,2019,2013,2010,2019,2004,2019,2002,2017,2019,2019,2019,2019,2019,2020,2019,2019,2019,2019,2019,2019,2019,2014,2019,2016,2019,2014,2015,2013,2015,2018,2016,2008,2015,2014,2010,2016,2019,2019,2019,2019,2019,2017,2018,2019,2019,2019,2020,2019,2019,2018,2019,2019,2019,2019,2019,2019,2019,2019,2019,2017,2019,2019,2016,2015,2019,2019,2020,2019,2019,2019,2019,2019,2016,2017,2019,2019,2019,2019,2019,2019,2017,2018,2018,2018,2017,2018,2016,2017,2019,2019,2018,2019,2019,2019,2019,2019,2019,2019,2019,2019,2019,2019,2019,2019,2019,2018,2018,2018,2019,2019,2018,2019,2019,2019,2019,2019,2019,2019,2019,2019,2019,2019,2018,2019,2019,2019,2019,2019,2019,2014,2019,2019,2015,2013,2014,2015,2019,2019,2019,2019,2019,2019,2019,2019,2019,2018,2019,2019,2019,2019,2019,2019,2010,2011,2015,2017,2019,2019,2019,2016,2019,2019,2019,2019,2019,2018,2019,2019,2019,2008,2018,2015,2018,2018,2011,2019,2019,2019,2019,2018,2019,2019,2019,2013,1995,2018,2019,2019,2012,2014,2011,2019,2017,2019,2019,2019,2019,2019,2018,2019,2019,2019,2011,2019,2019,2019,2019,2019,2019,2019,2019,2017,2019,2019,2019,2019,2018,2019,2019,2018,2019,2019,2017,2017,2018,2017,2019,2019,2019,2017,2019,2019,2019,2019,2019,2019,2019,2019,2008,2014,2018,2018,2009,2004,2018,2018,2019,2019,2005,2019,2017,2019,2019,2019,2019,2019,2019,2017,2013,2012,2015,2017,2019,2017,2019,2019,2019,2019,2018,2013,2019,2017,2019,2019,2019,2018,2018,2019,2019,2019,2019,2007,2019,2019,2019,2018,2018,2019,2018,2018,2018,2017,2018,2018,2018,2016,2016,2017,2019,2019,2018,2019,2018,2018,2018,2018,2017,2018,2018,2018,2018,2019,2017,2018,2018,2018,2018,2018,2019,2019,2017,2018,2019,2018,2018,2019,2018,2018,2018,2019,2019,2019,2019,2019,2019,2019,2018,2002,2016,2019,2018,2019,2017,2018,2019,2019,2018,2008,2018,1991,2018,2018,2015,2018,2018,2013,2018,2018,2011,2018,2018,2017,2018,2017,2016,2018,2018,2018,2015,2018,2011,2018,2018,2018,2018,2018,2018,2018,2018,2018,2018,2018,2018,2018,2018,2018,2017,2018,2018,2018,2018,2018,2015,2018,2018,2018,2018,2018,2017,2016,2016,2018,2018,2018,2018,2017,2018,2018,2018,2018,2018,2018,2017,2017,2018,2003,2015,2018,2018,2014,2018,2018,2018,2009,2017,2018,2017,2018,2017,2018,2018,2018,2018,2017,2018,2012,2018,2018,2018,2018,2018,2017,2018,2018,2018,2014,1998,2009,1972,1974,2005,2016,2018,2018,2018,2018,2018,2018,2018,2018,2014,2018,2016,2017,2018,2018,2018,2018,2018,2018,2018,2013,2016,2018,2018,2018,2018,2018,2018,2017,2018,2018,2018,2017,2018,2018,2018,2018,2018,2018,2018,2018,2018,2018,2018,2018,2018,2018,2018,2007,2018,2018,2018,2018,2018,2018,2018,2018,2018,2018,2018,2018,2017,2018,2018,2018,2017,2017,2018,2018,2017,2018,2018,2008,2018,2019,2019,2018,2018,2018,2018,2017,2009,2018,2018,2018,2018,2018,2015,2016,2017,2017,2018,2018,2018,2017,2018,2017,1993,2017,2017,2017,2018,2018,2018,2018,2018,2018,2018,2016,2017,2017,2018,2018,2017,2017,2018,2018,2016,2018,2018,2017,2017,2018,2018,2017,2017,2018,2017,2016,2018,2018,2017,2018,2017,2017,2018,2018,2018,2017,2003,2018,2000,2017,2017,2017,2017,2017,2017,2017,2017,2015,2017,2017,2017,2017,2017,2017,2017,2017,2017,2017,2017,2014,2015,2017,2017,2017,2017,2017,2009,2017,2017,2017,2017,2017,2017,2015,2017,2017,2016,2017,2016,2004,2000,2013,2009,2017,2017,2017,2017,2017,2017,2017,2017,2016,2017,2012,2016,2017,2016,2016,2017,2017,1976,2017,2007,1988,2017,2017,2017,2017,2013,2017,2017,2011,2016,2014,2015,2016,2014,2011,2013,2012,2009,2017,2015,2012,2012,2008,2014,2012,2016,2016,2015,2014,2011,2016,2009,2012,2014,2014,2012,2017,2017,2017,2017,2014,2016,2016,2016,2016,2014,2015,2016,2017,2016,2017,2015,2015,2016,2016,2017,2017,2017,2015,2010,2015,2017,2016,2017,2016,2017,2017,2016,2017,2005,2016,2017,2015,2017,2015,2017,2016,2017,2016,2010,2016,2017,2016,2015,2013,2016,2016,2016,2017,2017,2017,1999,2016,2016,2016,2018,2016,2012,2012,2012,2011,2016,2012,2001,2012,2018,2012,2017,2016,2016,2016,2015,2016,2016,2016,2016,2015,2016,2016,2016,2016,2009,2015,2016,2011,2013,2013,2013,2012,2012,2016,2016,2006,2015,2008,2016,2015,2015,2014,2014,2012,2015,2015,2015,2016,2016,2016,2015,2008,2011,2016,2010,2015,2016,2001,2015,2010,2005,2008,2016,2016,2016,2016,2016,2016,2016,2016,2016,2015,2012,2016,2016,2014,2016,2016,2016,2014,2015,2015,2015,2016,2015,2015,1992,2011,2015,2014,2014,1998,2013,2007,2013,2017,2013,2018,2017,2014,2015,2018,2016,2013,2010,2017,2017,2015,2012,2015,2014,2014,2014,2017,2015,1988,2012,2018,2018,2018,2010,2012,2013,2016,2016,2014,2013,2016,2016,2017,2015,2016,2018,2013,2010,2015,2016,2016,2010,2016,2016,2019,2009,2013,2015,1997,2016,2014,2016,2016,2017,2016,2014,2016,2016,2012,2017,2009,2016,2014,2012,2016,2012,2015,2016,2016,1992,2017,1999,2017,2018,2017,2018,1994,2018,2012,2017,2017,1999,2016,2018,2018,2017,2017,1977,2013,2016,2012,2015,2015,2018,2017,2017,2017,2016,2017,2013,2017,2007,2016,2013,2016,2018,2015,2015,2014,2015,2009,2013,2008,2014,2010,1979,2010,2017,2017,2016,2018,2014,2011,2006,2009,2009,2015,2015,2015,2016,2011,2017,2016,2011,2016,2018,2016,2009,2014,2017,2015,2016,2016,2017,2012,2017,2016,2016,2012,2017,2013,2016,2017,2010,2015,2013,2016,2015,2014,2014,2015,2015,2018,2015,2018,2015,2016,2016,2015,2016,2016,2015,2016,2017,2011,2015,2011,2016,2019,2014,2012,2015,2017,2015,2007,2011,2014,2015,2008,2019,2008,2009,2017,2015,2016,2014,2012,2013,2017,1996,2017,2018,2014,2017,2013,2011,2017,2015,2014,2017,2010,2018,2015,2011,2015,2018,2019,2016,2012,2017,2017,2013,2016,2015,2015,2012,2017,2013,2010,2014,2016,2015,2017,2014,2010,2013,2018,2019,2018,2016,2016,2013,2012,2015,2016,2018,2014,2013,2015,2015,2014,2012,2011,2013,2017,2013,1999,2015,2016,1981,1997,2016,2004,2017,2017,2016,2011,2015,2015,2016,2017,2014,2018,2017,2018,2016,2012,2012,2017,2016,2016,2011,2010,2016,2015,2003,2010,1990,2016,2016,2015,2004,1998,2008,2000,1999,2006,2003,2007,2009,2005,2011,2011,2011,2011,2012,2012,2001,1997,2002,1996,2013,2013,2011,2016,2014,2015,2009,2012,2014,2004,2016,2017,2014,2016,2017,2010,1985,2016,2004,1998,2013,2015,2018,2014,2009,2016,2015,2016,1986,2019,2017,2008,2015,2008,2018,2016,2016,2018,2017,2016,2014,2013,2018,2014,2015,2010,2017,2015,2015,2017,2018,2019,2020,2016,2020,2010,2018,1993,2019,2010,2005,2018,2018,2010,1967,2014,2011,2015,2011,1983,2017,2011,2016,2016,2016,2015,2013,2011,2016,2017,2015,2007,2016,2018,2018,2009,2013,2013,2015,2018,2010,2010,2009,2017,2015,2015,2016,2017,2018,2017,2015,2017,2012,2006,2015,2017,2015,2017,2017,2017,1989,2016,2010,1963,2009,2007,2005,2010,2009,2014,2015,2017,2017,2014,2018,2018,2018,2017,1990,2018,2015,2015,1995,2016,2014,2012,2016,2016,2009,2012,2017,2011,2015,2013,2016,2014,2010,2017,2018,2015,2015,2015,2016,2016,2012,2016,2016],\"y0\":\" \",\"yaxis\":\"y\",\"type\":\"box\"}],                        {\"template\":{\"data\":{\"histogram2dcontour\":[{\"type\":\"histogram2dcontour\",\"colorbar\":{\"outlinewidth\":0,\"ticks\":\"\"},\"colorscale\":[[0.0,\"#0d0887\"],[0.1111111111111111,\"#46039f\"],[0.2222222222222222,\"#7201a8\"],[0.3333333333333333,\"#9c179e\"],[0.4444444444444444,\"#bd3786\"],[0.5555555555555556,\"#d8576b\"],[0.6666666666666666,\"#ed7953\"],[0.7777777777777778,\"#fb9f3a\"],[0.8888888888888888,\"#fdca26\"],[1.0,\"#f0f921\"]]}],\"choropleth\":[{\"type\":\"choropleth\",\"colorbar\":{\"outlinewidth\":0,\"ticks\":\"\"}}],\"histogram2d\":[{\"type\":\"histogram2d\",\"colorbar\":{\"outlinewidth\":0,\"ticks\":\"\"},\"colorscale\":[[0.0,\"#0d0887\"],[0.1111111111111111,\"#46039f\"],[0.2222222222222222,\"#7201a8\"],[0.3333333333333333,\"#9c179e\"],[0.4444444444444444,\"#bd3786\"],[0.5555555555555556,\"#d8576b\"],[0.6666666666666666,\"#ed7953\"],[0.7777777777777778,\"#fb9f3a\"],[0.8888888888888888,\"#fdca26\"],[1.0,\"#f0f921\"]]}],\"heatmap\":[{\"type\":\"heatmap\",\"colorbar\":{\"outlinewidth\":0,\"ticks\":\"\"},\"colorscale\":[[0.0,\"#0d0887\"],[0.1111111111111111,\"#46039f\"],[0.2222222222222222,\"#7201a8\"],[0.3333333333333333,\"#9c179e\"],[0.4444444444444444,\"#bd3786\"],[0.5555555555555556,\"#d8576b\"],[0.6666666666666666,\"#ed7953\"],[0.7777777777777778,\"#fb9f3a\"],[0.8888888888888888,\"#fdca26\"],[1.0,\"#f0f921\"]]}],\"heatmapgl\":[{\"type\":\"heatmapgl\",\"colorbar\":{\"outlinewidth\":0,\"ticks\":\"\"},\"colorscale\":[[0.0,\"#0d0887\"],[0.1111111111111111,\"#46039f\"],[0.2222222222222222,\"#7201a8\"],[0.3333333333333333,\"#9c179e\"],[0.4444444444444444,\"#bd3786\"],[0.5555555555555556,\"#d8576b\"],[0.6666666666666666,\"#ed7953\"],[0.7777777777777778,\"#fb9f3a\"],[0.8888888888888888,\"#fdca26\"],[1.0,\"#f0f921\"]]}],\"contourcarpet\":[{\"type\":\"contourcarpet\",\"colorbar\":{\"outlinewidth\":0,\"ticks\":\"\"}}],\"contour\":[{\"type\":\"contour\",\"colorbar\":{\"outlinewidth\":0,\"ticks\":\"\"},\"colorscale\":[[0.0,\"#0d0887\"],[0.1111111111111111,\"#46039f\"],[0.2222222222222222,\"#7201a8\"],[0.3333333333333333,\"#9c179e\"],[0.4444444444444444,\"#bd3786\"],[0.5555555555555556,\"#d8576b\"],[0.6666666666666666,\"#ed7953\"],[0.7777777777777778,\"#fb9f3a\"],[0.8888888888888888,\"#fdca26\"],[1.0,\"#f0f921\"]]}],\"surface\":[{\"type\":\"surface\",\"colorbar\":{\"outlinewidth\":0,\"ticks\":\"\"},\"colorscale\":[[0.0,\"#0d0887\"],[0.1111111111111111,\"#46039f\"],[0.2222222222222222,\"#7201a8\"],[0.3333333333333333,\"#9c179e\"],[0.4444444444444444,\"#bd3786\"],[0.5555555555555556,\"#d8576b\"],[0.6666666666666666,\"#ed7953\"],[0.7777777777777778,\"#fb9f3a\"],[0.8888888888888888,\"#fdca26\"],[1.0,\"#f0f921\"]]}],\"mesh3d\":[{\"type\":\"mesh3d\",\"colorbar\":{\"outlinewidth\":0,\"ticks\":\"\"}}],\"scatter\":[{\"fillpattern\":{\"fillmode\":\"overlay\",\"size\":10,\"solidity\":0.2},\"type\":\"scatter\"}],\"parcoords\":[{\"type\":\"parcoords\",\"line\":{\"colorbar\":{\"outlinewidth\":0,\"ticks\":\"\"}}}],\"scatterpolargl\":[{\"type\":\"scatterpolargl\",\"marker\":{\"colorbar\":{\"outlinewidth\":0,\"ticks\":\"\"}}}],\"bar\":[{\"error_x\":{\"color\":\"#2a3f5f\"},\"error_y\":{\"color\":\"#2a3f5f\"},\"marker\":{\"line\":{\"color\":\"#E5ECF6\",\"width\":0.5},\"pattern\":{\"fillmode\":\"overlay\",\"size\":10,\"solidity\":0.2}},\"type\":\"bar\"}],\"scattergeo\":[{\"type\":\"scattergeo\",\"marker\":{\"colorbar\":{\"outlinewidth\":0,\"ticks\":\"\"}}}],\"scatterpolar\":[{\"type\":\"scatterpolar\",\"marker\":{\"colorbar\":{\"outlinewidth\":0,\"ticks\":\"\"}}}],\"histogram\":[{\"marker\":{\"pattern\":{\"fillmode\":\"overlay\",\"size\":10,\"solidity\":0.2}},\"type\":\"histogram\"}],\"scattergl\":[{\"type\":\"scattergl\",\"marker\":{\"colorbar\":{\"outlinewidth\":0,\"ticks\":\"\"}}}],\"scatter3d\":[{\"type\":\"scatter3d\",\"line\":{\"colorbar\":{\"outlinewidth\":0,\"ticks\":\"\"}},\"marker\":{\"colorbar\":{\"outlinewidth\":0,\"ticks\":\"\"}}}],\"scattermapbox\":[{\"type\":\"scattermapbox\",\"marker\":{\"colorbar\":{\"outlinewidth\":0,\"ticks\":\"\"}}}],\"scatterternary\":[{\"type\":\"scatterternary\",\"marker\":{\"colorbar\":{\"outlinewidth\":0,\"ticks\":\"\"}}}],\"scattercarpet\":[{\"type\":\"scattercarpet\",\"marker\":{\"colorbar\":{\"outlinewidth\":0,\"ticks\":\"\"}}}],\"carpet\":[{\"aaxis\":{\"endlinecolor\":\"#2a3f5f\",\"gridcolor\":\"white\",\"linecolor\":\"white\",\"minorgridcolor\":\"white\",\"startlinecolor\":\"#2a3f5f\"},\"baxis\":{\"endlinecolor\":\"#2a3f5f\",\"gridcolor\":\"white\",\"linecolor\":\"white\",\"minorgridcolor\":\"white\",\"startlinecolor\":\"#2a3f5f\"},\"type\":\"carpet\"}],\"table\":[{\"cells\":{\"fill\":{\"color\":\"#EBF0F8\"},\"line\":{\"color\":\"white\"}},\"header\":{\"fill\":{\"color\":\"#C8D4E3\"},\"line\":{\"color\":\"white\"}},\"type\":\"table\"}],\"barpolar\":[{\"marker\":{\"line\":{\"color\":\"#E5ECF6\",\"width\":0.5},\"pattern\":{\"fillmode\":\"overlay\",\"size\":10,\"solidity\":0.2}},\"type\":\"barpolar\"}],\"pie\":[{\"automargin\":true,\"type\":\"pie\"}]},\"layout\":{\"autotypenumbers\":\"strict\",\"colorway\":[\"#636efa\",\"#EF553B\",\"#00cc96\",\"#ab63fa\",\"#FFA15A\",\"#19d3f3\",\"#FF6692\",\"#B6E880\",\"#FF97FF\",\"#FECB52\"],\"font\":{\"color\":\"#2a3f5f\"},\"hovermode\":\"closest\",\"hoverlabel\":{\"align\":\"left\"},\"paper_bgcolor\":\"white\",\"plot_bgcolor\":\"#E5ECF6\",\"polar\":{\"bgcolor\":\"#E5ECF6\",\"angularaxis\":{\"gridcolor\":\"white\",\"linecolor\":\"white\",\"ticks\":\"\"},\"radialaxis\":{\"gridcolor\":\"white\",\"linecolor\":\"white\",\"ticks\":\"\"}},\"ternary\":{\"bgcolor\":\"#E5ECF6\",\"aaxis\":{\"gridcolor\":\"white\",\"linecolor\":\"white\",\"ticks\":\"\"},\"baxis\":{\"gridcolor\":\"white\",\"linecolor\":\"white\",\"ticks\":\"\"},\"caxis\":{\"gridcolor\":\"white\",\"linecolor\":\"white\",\"ticks\":\"\"}},\"coloraxis\":{\"colorbar\":{\"outlinewidth\":0,\"ticks\":\"\"}},\"colorscale\":{\"sequential\":[[0.0,\"#0d0887\"],[0.1111111111111111,\"#46039f\"],[0.2222222222222222,\"#7201a8\"],[0.3333333333333333,\"#9c179e\"],[0.4444444444444444,\"#bd3786\"],[0.5555555555555556,\"#d8576b\"],[0.6666666666666666,\"#ed7953\"],[0.7777777777777778,\"#fb9f3a\"],[0.8888888888888888,\"#fdca26\"],[1.0,\"#f0f921\"]],\"sequentialminus\":[[0.0,\"#0d0887\"],[0.1111111111111111,\"#46039f\"],[0.2222222222222222,\"#7201a8\"],[0.3333333333333333,\"#9c179e\"],[0.4444444444444444,\"#bd3786\"],[0.5555555555555556,\"#d8576b\"],[0.6666666666666666,\"#ed7953\"],[0.7777777777777778,\"#fb9f3a\"],[0.8888888888888888,\"#fdca26\"],[1.0,\"#f0f921\"]],\"diverging\":[[0,\"#8e0152\"],[0.1,\"#c51b7d\"],[0.2,\"#de77ae\"],[0.3,\"#f1b6da\"],[0.4,\"#fde0ef\"],[0.5,\"#f7f7f7\"],[0.6,\"#e6f5d0\"],[0.7,\"#b8e186\"],[0.8,\"#7fbc41\"],[0.9,\"#4d9221\"],[1,\"#276419\"]]},\"xaxis\":{\"gridcolor\":\"white\",\"linecolor\":\"white\",\"ticks\":\"\",\"title\":{\"standoff\":15},\"zerolinecolor\":\"white\",\"automargin\":true,\"zerolinewidth\":2},\"yaxis\":{\"gridcolor\":\"white\",\"linecolor\":\"white\",\"ticks\":\"\",\"title\":{\"standoff\":15},\"zerolinecolor\":\"white\",\"automargin\":true,\"zerolinewidth\":2},\"scene\":{\"xaxis\":{\"backgroundcolor\":\"#E5ECF6\",\"gridcolor\":\"white\",\"linecolor\":\"white\",\"showbackground\":true,\"ticks\":\"\",\"zerolinecolor\":\"white\",\"gridwidth\":2},\"yaxis\":{\"backgroundcolor\":\"#E5ECF6\",\"gridcolor\":\"white\",\"linecolor\":\"white\",\"showbackground\":true,\"ticks\":\"\",\"zerolinecolor\":\"white\",\"gridwidth\":2},\"zaxis\":{\"backgroundcolor\":\"#E5ECF6\",\"gridcolor\":\"white\",\"linecolor\":\"white\",\"showbackground\":true,\"ticks\":\"\",\"zerolinecolor\":\"white\",\"gridwidth\":2}},\"shapedefaults\":{\"line\":{\"color\":\"#2a3f5f\"}},\"annotationdefaults\":{\"arrowcolor\":\"#2a3f5f\",\"arrowhead\":0,\"arrowwidth\":1},\"geo\":{\"bgcolor\":\"white\",\"landcolor\":\"#E5ECF6\",\"subunitcolor\":\"white\",\"showland\":true,\"showlakes\":true,\"lakecolor\":\"white\"},\"title\":{\"x\":0.05},\"mapbox\":{\"style\":\"light\"}}},\"xaxis\":{\"anchor\":\"y\",\"domain\":[0.0,1.0]},\"yaxis\":{\"anchor\":\"x\",\"domain\":[0.0,1.0],\"title\":{\"text\":\"Release Year\"}},\"legend\":{\"tracegroupgap\":0},\"title\":{\"text\":\"Boxplot for Release Year\"},\"boxmode\":\"group\"},                        {\"responsive\": true}                    ).then(function(){\n",
              "                            \n",
              "var gd = document.getElementById('8d2a723e-bfb8-4632-b20e-51a5c04848ee');\n",
              "var x = new MutationObserver(function (mutations, observer) {{\n",
              "        var display = window.getComputedStyle(gd).display;\n",
              "        if (!display || display === 'none') {{\n",
              "            console.log([gd, 'removed!']);\n",
              "            Plotly.purge(gd);\n",
              "            observer.disconnect();\n",
              "        }}\n",
              "}});\n",
              "\n",
              "// Listen for the removal of the full notebook cells\n",
              "var notebookContainer = gd.closest('#notebook-container');\n",
              "if (notebookContainer) {{\n",
              "    x.observe(notebookContainer, {childList: true});\n",
              "}}\n",
              "\n",
              "// Listen for the clearing of the current output cell\n",
              "var outputEl = gd.closest('.output');\n",
              "if (outputEl) {{\n",
              "    x.observe(outputEl, {childList: true});\n",
              "}}\n",
              "\n",
              "                        })                };                            </script>        </div>\n",
              "</body>\n",
              "</html>"
            ]
          },
          "metadata": {}
        }
      ]
    },
    {
      "cell_type": "markdown",
      "source": [
        "The outliers primarily occur due to the noticeable upward trend in the values."
      ],
      "metadata": {
        "id": "4fqclTeZBwao"
      }
    },
    {
      "cell_type": "markdown",
      "source": [
        "## **6. Enhancing the dataset.**"
      ],
      "metadata": {
        "id": "gDtyR2GfD1MB"
      }
    },
    {
      "cell_type": "markdown",
      "source": [
        "Standardized Column Names:\n",
        "Column names across both movie and TV show datasets have been standardized\n"
      ],
      "metadata": {
        "id": "sXUZE0jFEpaI"
      }
    },
    {
      "cell_type": "code",
      "source": [
        "enhance_df = df.copy()"
      ],
      "metadata": {
        "id": "dJNDmCfoBBmW"
      },
      "execution_count": null,
      "outputs": []
    },
    {
      "cell_type": "code",
      "source": [
        "# Separate type into 'Movie' and 'TV Show' columns\n",
        "enhance_df['movie'] = (enhance_df['type'] == 'Movie')\n",
        "enhance_df['tv_show'] = (enhance_df['type'] == 'TV Show')\n",
        "\n",
        "# Create duration_seasons and duration_min columns\n",
        "enhance_df['duration_seasons'] = enhance_df['duration'].apply(lambda x: int(x.split()[0]) if 'Season' in x else None)\n",
        "enhance_df['duration_min'] = enhance_df['duration'].apply(lambda x: int(x.split()[0]) if 'min' in x else None)\n",
        "\n",
        "# Drop the original 'type' and 'duration' columns\n",
        "enhance_df = enhance_df.drop(['duration'], axis=1)\n",
        "#filling missing values in column duration_seasons and duration_min with 0\n",
        "enhance_df['duration_min'] = enhance_df['duration_min'].fillna(0)\n",
        "enhance_df['duration_seasons'] = enhance_df['duration_seasons'].fillna(0)\n",
        "enhance_df.rename(columns={'rating': 'content_rating'}, inplace=True)"
      ],
      "metadata": {
        "id": "k3zir_NKEB8S"
      },
      "execution_count": null,
      "outputs": []
    },
    {
      "cell_type": "markdown",
      "source": [
        "**Released Year Transformation:**\n",
        "\"Released_year\" has been transformed into a numeric format from an object format.\n"
      ],
      "metadata": {
        "id": "CUwjFg-nFA6k"
      }
    },
    {
      "cell_type": "code",
      "source": [
        "enhance_df['release_year'] = pd.to_numeric(enhance_df['release_year'] , errors='coerce')"
      ],
      "metadata": {
        "id": "Qx089u-qFiGP"
      },
      "execution_count": null,
      "outputs": []
    },
    {
      "cell_type": "markdown",
      "source": [
        "Date Added Transformation:\n",
        "\n",
        "\"Date_added\" column converted to datetime format.\n"
      ],
      "metadata": {
        "id": "vKCaemAVFcuI"
      }
    },
    {
      "cell_type": "code",
      "source": [
        "#Fixing data type to date for date_added column\n",
        "enhance_df['date_added'] = pd.to_datetime(enhance_df['date_added'])"
      ],
      "metadata": {
        "id": "bxZxYmMAEvY4"
      },
      "execution_count": null,
      "outputs": []
    },
    {
      "cell_type": "markdown",
      "source": [
        "**Special Character Removal:**\n",
        "Titles and director names have undergone preprocessing to remove special characters.\n"
      ],
      "metadata": {
        "id": "C9DgILirGC61"
      }
    },
    {
      "cell_type": "code",
      "source": [
        "# Define a function to clean and trim the title\n",
        "def clean_and_trim_value(value):\n",
        "    # Remove non-ASCII characters\n",
        "    value = value.encode('ascii', 'ignore').decode('utf-8')\n",
        "    # Remove special characters using a regular expression\n",
        "    value = re.sub(r'[^\\w\\s-]', '', value)\n",
        "    # Trim leading and trailing spaces\n",
        "    value = value.strip()\n",
        "    return value"
      ],
      "metadata": {
        "id": "R_7sYZB7F-PC"
      },
      "execution_count": null,
      "outputs": []
    },
    {
      "cell_type": "code",
      "source": [
        "# Apply the clean_and_trim_title function to the 'title' column\n",
        "enhance_df['title'] = enhance_df['title'].apply(clean_and_trim_value)\n",
        "enhance_df['director'] = enhance_df['director'].apply(clean_and_trim_value)"
      ],
      "metadata": {
        "id": "19bHTttLHCO7"
      },
      "execution_count": null,
      "outputs": []
    },
    {
      "cell_type": "code",
      "source": [
        "enhance_df.info()"
      ],
      "metadata": {
        "id": "v3XgCOY-HVY3"
      },
      "execution_count": null,
      "outputs": []
    },
    {
      "cell_type": "markdown",
      "source": [
        "## **7. Exploratory Data Analysis**"
      ],
      "metadata": {
        "id": "1nIjFZJGIfeH"
      }
    },
    {
      "cell_type": "markdown",
      "source": [
        "### **7.1. Categorical data.**"
      ],
      "metadata": {
        "id": "Gl3g49RuPOuD"
      }
    },
    {
      "cell_type": "markdown",
      "source": [
        "#### 7.1.1. Title."
      ],
      "metadata": {
        "id": "WaRYzAwpmmnI"
      }
    },
    {
      "cell_type": "markdown",
      "source": [
        "Most Frecuent Values from Title"
      ],
      "metadata": {
        "id": "xYP4hiLdctZ_"
      }
    },
    {
      "cell_type": "code",
      "source": [
        "# Calculate value counts\n",
        "value_counts = enhance_df['title'].value_counts().head(10)\n",
        "# Creating a Plotly bar chart\n",
        "fig = px.bar(x=value_counts.index, y=value_counts.values, labels={'x': \"Unique Values\", 'y': \"Frequency Count\"},\n",
        "             title=\"Top 10 Frequency Counts in Column 'Title'\")\n",
        "fig.update_xaxes(tickangle=45)  # Rotate x-axis labels\n",
        "fig.show()"
      ],
      "metadata": {
        "id": "S7g7vT5GeVi7"
      },
      "execution_count": null,
      "outputs": []
    },
    {
      "cell_type": "markdown",
      "source": [
        "We can see that we need to remove blank values."
      ],
      "metadata": {
        "id": "AxhYw95wcxMt"
      }
    },
    {
      "cell_type": "markdown",
      "source": [
        "#### 7.1.2. Director."
      ],
      "metadata": {
        "id": "zrsZ8rNsmuzG"
      }
    },
    {
      "cell_type": "markdown",
      "source": [
        "Most frecuent values for director"
      ],
      "metadata": {
        "id": "JLfeEPywbovX"
      }
    },
    {
      "cell_type": "code",
      "source": [
        "# Calculate value counts\n",
        "value_counts = enhance_df['director'].value_counts().head(10)\n",
        "# Creating a Plotly bar chart\n",
        "fig = px.bar(x=value_counts.index, y=value_counts.values, labels={'x': \"Unique Values\", 'y': \"Frequency Count\"},\n",
        "             title=\"Top 10 Frequency Counts in Column 'Director'\")\n",
        "fig.update_xaxes(tickangle=45)  # Rotate x-axis labels\n",
        "fig.show()"
      ],
      "metadata": {
        "id": "PGninLUae0mA"
      },
      "execution_count": null,
      "outputs": []
    },
    {
      "cell_type": "markdown",
      "source": [
        "#### 7.1.3. Type."
      ],
      "metadata": {
        "id": "viszAJhRm59t"
      }
    },
    {
      "cell_type": "markdown",
      "source": [
        "Most frecuent values for Type"
      ],
      "metadata": {
        "id": "KCxsGfnudW8Y"
      }
    },
    {
      "cell_type": "code",
      "source": [
        "# Calculate value counts\n",
        "value_counts = enhance_df['type'].value_counts().head(10)\n",
        "# Creating a Plotly bar chart\n",
        "fig = px.bar(x=value_counts.index, y=value_counts.values, labels={'x': \"Unique Values\", 'y': \"Frequency Count\"},\n",
        "             title=\"Top 10 Frequency Counts in Column 'Type'\")\n",
        "fig.update_xaxes(tickangle=45)  # Rotate x-axis labels\n",
        "fig.show()"
      ],
      "metadata": {
        "id": "YxZdQqK2e8xH"
      },
      "execution_count": null,
      "outputs": []
    },
    {
      "cell_type": "markdown",
      "source": [
        "#### 7.1.4. Country."
      ],
      "metadata": {
        "id": "qNiFxmNNm_3s"
      }
    },
    {
      "cell_type": "markdown",
      "source": [
        "Most frecuent values per Country"
      ],
      "metadata": {
        "id": "PTUhCmbDdbof"
      }
    },
    {
      "cell_type": "code",
      "source": [
        "# Calculate value counts\n",
        "value_counts = enhance_df['country'].value_counts().head(10)\n",
        "# Creating a Plotly bar chart\n",
        "fig = px.bar(x=value_counts.index, y=value_counts.values, labels={'x': \"Unique Values\", 'y': \"Frequency Count\"},\n",
        "             title=\"Top 10 Frequency Counts in Column 'Country'\")\n",
        "fig.update_xaxes(tickangle=45)  # Rotate x-axis labels\n",
        "fig.show()"
      ],
      "metadata": {
        "id": "bDIq98difOxy"
      },
      "execution_count": null,
      "outputs": []
    },
    {
      "cell_type": "markdown",
      "source": [
        "#### 7.1.5. Content rating."
      ],
      "metadata": {
        "id": "3jofZK-pnD-4"
      }
    },
    {
      "cell_type": "markdown",
      "source": [
        "Most frecuent Content Rating"
      ],
      "metadata": {
        "id": "J7yCii4TffkY"
      }
    },
    {
      "cell_type": "code",
      "source": [
        "# Calculate value counts\n",
        "value_counts = enhance_df['content_rating'].value_counts().head(10)\n",
        "# Creating a Plotly bar chart\n",
        "fig = px.bar(x=value_counts.index, y=value_counts.values, labels={'x': \"Unique Values\", 'y': \"Frequency Count\"},\n",
        "             title=\"Top 10 Frequency Counts in Column 'Content rating'\")\n",
        "fig.update_xaxes(tickangle=45)  # Rotate x-axis labels\n",
        "fig.show()"
      ],
      "metadata": {
        "id": "sP7yxAMVdeAX"
      },
      "execution_count": null,
      "outputs": []
    },
    {
      "cell_type": "markdown",
      "source": [
        "Content rating for Movies"
      ],
      "metadata": {
        "id": "FtjEO-PRnQOd"
      }
    },
    {
      "cell_type": "code",
      "source": [
        "# Filter the DataFrame by 'type' equals 'movie' and retrieve the first 10 'content_rating' values\n",
        "filtered_values = enhance_df.loc[enhance_df['type'] == 'Movie', 'content_rating'].head(10)\n",
        "filtered_values"
      ],
      "metadata": {
        "id": "mSvKa-j3hTZx"
      },
      "execution_count": null,
      "outputs": []
    },
    {
      "cell_type": "markdown",
      "source": [
        "Content rating for TV Shows"
      ],
      "metadata": {
        "id": "2zh2biklnWJQ"
      }
    },
    {
      "cell_type": "code",
      "source": [
        "# Filter the DataFrame by 'type' equals 'movie' and calculate value counts for 'content_rating'\n",
        "value_counts = enhance_df[enhance_df['type'] == 'Movie']['content_rating'].value_counts().head(10)\n",
        "print(value_counts)\n",
        "# Create a Plotly bar chart\n",
        "fig = px.bar(x=value_counts.index, y=value_counts.values,\n",
        "             labels={'x': \"Unique Values\", 'y': \"Frequency Count\"},\n",
        "             title=\"Top 10 Frequency Counts in Column 'Content rating' for 'Movie' Type\")\n",
        "fig.update_xaxes(tickangle=45)  # Rotate x-axis labels\n",
        "fig.show()"
      ],
      "metadata": {
        "id": "0qDkOcqIfoSb"
      },
      "execution_count": null,
      "outputs": []
    },
    {
      "cell_type": "code",
      "source": [
        "# Filter the DataFrame by 'type' equals 'movie' and calculate value counts for 'content_rating'\n",
        "value_counts = enhance_df[enhance_df['type'] == 'TV Show']['content_rating'].value_counts().head(10)\n",
        "print(value_counts)\n",
        "# Create a Plotly bar chart\n",
        "fig = px.bar(x=value_counts.index, y=value_counts.values,\n",
        "             labels={'x': \"Unique Values\", 'y': \"Frequency Count\"},\n",
        "             title=\"Top 10 Frequency Counts in Column 'Content rating' for 'Movie' Type\")\n",
        "fig.update_xaxes(tickangle=45)  # Rotate x-axis labels\n",
        "fig.show()"
      ],
      "metadata": {
        "id": "5kHvL8UWgNa9"
      },
      "execution_count": null,
      "outputs": []
    },
    {
      "cell_type": "markdown",
      "source": [
        "### **7.2. Numeric Data.**"
      ],
      "metadata": {
        "id": "X6N_1q7zncmF"
      }
    },
    {
      "cell_type": "markdown",
      "source": [
        "#### 7.2.1. Date added column (Year)."
      ],
      "metadata": {
        "id": "oidUlS_an2RV"
      }
    },
    {
      "cell_type": "code",
      "source": [
        "# Assuming 'enhance_df' is your DataFrame\n",
        "# Convert 'date_added' column to datetime and extract year\n",
        "enhance_df['date_added'] = pd.to_datetime(enhance_df['date_added'])\n",
        "enhance_df['year'] = enhance_df['date_added'].dt.year\n",
        "\n",
        "# Create a histogram using Plotly Express (xplot)\n",
        "fig = px.histogram(enhance_df, x='date_added', color='year', nbins=20,\n",
        "                   labels={'date_added': 'Date Added', 'count': 'Frequency'},\n",
        "                   title='Histogram of Dates Added per Year')\n",
        "fig.update_xaxes(categoryorder='total ascending')  # Sort x-axis categories by year\n",
        "fig.show()"
      ],
      "metadata": {
        "id": "ROzXWwUnlbMY"
      },
      "execution_count": null,
      "outputs": []
    },
    {
      "cell_type": "markdown",
      "source": [
        "#### 7.2.2. Release Year."
      ],
      "metadata": {
        "id": "8B9eIDOon-nk"
      }
    },
    {
      "cell_type": "code",
      "source": [
        "# Assuming 'df' is your DataFrame\n",
        "# Create a histogram using Plotly Express (xplot)\n",
        "fig = px.histogram(df, x='release_year', color='release_year', nbins=20,\n",
        "                   labels={'release_year': 'Release Year', 'count': 'Frequency'},\n",
        "                   title='Histogram of Release Years')\n",
        "fig.update_xaxes(categoryorder='total ascending')  # Sort x-axis categories by year\n",
        "fig.show()"
      ],
      "metadata": {
        "id": "mQkNmiDWl6aH"
      },
      "execution_count": null,
      "outputs": []
    },
    {
      "cell_type": "markdown",
      "source": [
        "#### 7.2.3. Duration Minutes."
      ],
      "metadata": {
        "id": "rvcW3_jmoEDx"
      }
    },
    {
      "cell_type": "code",
      "source": [
        "# Calculate value counts\n",
        "\n",
        "# Filter values above 0 in the 'duration_min' column and calculate value counts\n",
        "filtered_values = enhance_df[enhance_df['duration_min'] > 0]['duration_min'].value_counts()\n",
        "\n",
        "# Creating a Plotly bar chart\n",
        "fig = px.bar(x=filtered_values.index, y=filtered_values.values, labels={'x': \"Unique Values\", 'y': \"Frequency Count\"},\n",
        "             title=\"Top 10 Frequency Counts in Column 'Duration Minutes'\")\n",
        "fig.update_xaxes(tickangle=45)  # Rotate x-axis labels\n",
        "fig.show()"
      ],
      "metadata": {
        "id": "CEo2kGztqPDP"
      },
      "execution_count": null,
      "outputs": []
    },
    {
      "cell_type": "markdown",
      "source": [
        "#### 7.2.4. Duration Seasons."
      ],
      "metadata": {
        "id": "GpM0OmjMoVvX"
      }
    },
    {
      "cell_type": "code",
      "source": [
        "# Calculate value counts\n",
        "\n",
        "# Filter values above 0 in the 'duration_min' column and calculate value counts\n",
        "filtered_values = enhance_df[enhance_df['duration_seasons'] > 0]['duration_seasons'].value_counts()\n",
        "\n",
        "# Creating a Plotly bar chart\n",
        "fig = px.bar(x=filtered_values.index, y=filtered_values.values, labels={'x': \"Unique Values\", 'y': \"Frequency Count\"},\n",
        "             title=\"Top 10 Frequency Counts in Column 'Duration Seasons'\")\n",
        "fig.update_xaxes(tickangle=45)  # Rotate x-axis labels\n",
        "fig.show()"
      ],
      "metadata": {
        "id": "lXLw1deKoQoN"
      },
      "execution_count": null,
      "outputs": []
    },
    {
      "cell_type": "markdown",
      "source": [
        "## **8. Normality Test.**"
      ],
      "metadata": {
        "id": "p84xQsDgsQuQ"
      }
    },
    {
      "cell_type": "markdown",
      "source": [
        "To rigorously assess dataset normality, the following steps are employed:\n",
        "\n",
        "-   **Data Plots:** Initial visual inspection through data plots, including histograms and Q-Q plots, serves as a preliminary assessment. Departures from a bell-shaped curve or a straight line in Q-Q plots may indicate non-normality.\n",
        "\n",
        "-   **Skewness Test:** A skewness test quantifies data asymmetry. Positive or negative values indicate skewness. Values close to zero suggest normality.\n",
        "\n",
        "-   **Shapiro-Wilk Test:** This formal statistical test provides a definitive verdict on normality. A p-value less than the significance level indicates non-normality.\n",
        "\n",
        "These steps allow a conclusive determination of whether the dataset adheres to a normal distribution or deviates from it."
      ],
      "metadata": {
        "id": "Wm094DCjtNmS"
      }
    },
    {
      "cell_type": "markdown",
      "source": [
        "### **8.1. Release year.**"
      ],
      "metadata": {
        "id": "XFT8csx1hCnI"
      }
    },
    {
      "cell_type": "markdown",
      "source": [
        "#### **8.1.1. Data Plots.**"
      ],
      "metadata": {
        "id": "GrU01t6ghKIJ"
      }
    },
    {
      "cell_type": "code",
      "source": [
        "# Assuming enhance_df contains your data\n",
        "# Histogram using Plotly Express\n",
        "histogram = px.histogram(enhance_df, x='release_year', nbins=30, title='Histogram of Release year')\n",
        "histogram.update_traces(marker=dict(color='green', line=dict(color='black', width=1)))\n",
        "histogram.update_xaxes(title='Release year')\n",
        "histogram.update_yaxes(title='Frequency')\n",
        "histogram.show()\n",
        "\n",
        "# QQ Plot using Plotly\n",
        "qq_data = stats.probplot(enhance_df['release_year'], dist=\"norm\", fit=False)\n",
        "\n",
        "qq_plot = go.Figure()\n",
        "qq_plot.add_trace(go.Scatter(x=qq_data[0], y=qq_data[1], mode='markers', name='Data', marker=dict(color='blue')))\n",
        "# Fit a line to the QQ plot\n",
        "slope, intercept = np.polyfit(qq_data[0], qq_data[1], 1)\n",
        "qq_plot.add_trace(go.Scatter(x=qq_data[0], y=(np.array(qq_data[0]) * slope + intercept), mode='lines', name='Fit', line=dict(color='red')))\n",
        "\n",
        "qq_plot.update_layout(title='QQ Plot of Release year', xaxis_title='Theoretical quantiles', yaxis_title='Sample quantiles')\n",
        "qq_plot.show()"
      ],
      "metadata": {
        "id": "xJHqqtNge4PQ"
      },
      "execution_count": null,
      "outputs": []
    },
    {
      "cell_type": "markdown",
      "source": [
        "The graphic indicates that the the values for release year are non normal disstributed."
      ],
      "metadata": {
        "id": "kPuX21sOhZcq"
      }
    },
    {
      "cell_type": "markdown",
      "source": [
        "#### **8.1.2. Skewness Test.**"
      ],
      "metadata": {
        "id": "bmVKexxzhh4b"
      }
    },
    {
      "cell_type": "code",
      "source": [
        "# Calculate skewness\n",
        "skewness_value = skew(enhance_df['release_year'])\n",
        "\n",
        "# Determine the distribution description\n",
        "if abs(skewness_value) < 0.5:\n",
        "    description = \"approximately normally distributed\"\n",
        "elif skewness_value < -0.5:\n",
        "    description = \"left-skewed\"\n",
        "elif skewness_value > 0.5:\n",
        "    description = \"right-skewed\"\n",
        "else:\n",
        "    description = \"exhibiting non-normal characteristics\"\n",
        "\n",
        "print(f\"Release Year data is {description}, value: {skewness_value}\")"
      ],
      "metadata": {
        "id": "RHz17smhfLOI"
      },
      "execution_count": null,
      "outputs": []
    },
    {
      "cell_type": "markdown",
      "source": [
        "#### **8.1.3. Shapiro-Wilk Test.**"
      ],
      "metadata": {
        "id": "e8NILaPmiBAj"
      }
    },
    {
      "cell_type": "code",
      "source": [
        "# Perform the Shapiro-Wilk test\n",
        "shapiro_test_result = shapiro(enhance_df['release_year'])\n",
        "\n",
        "# Descriptive assessment based on the Shapiro-Wilk test result\n",
        "if shapiro_test_result.pvalue > 0.05:\n",
        "    description = \"normally distributed\"\n",
        "else:\n",
        "    description = \"non-normally distributed\"\n",
        "\n",
        "print(f\"Release year data is {description}, p-value: {shapiro_test_result.pvalue}\")"
      ],
      "metadata": {
        "id": "HAW6PHbAh884"
      },
      "execution_count": null,
      "outputs": []
    },
    {
      "cell_type": "markdown",
      "source": [
        "### **8.2. Date added (Year).**"
      ],
      "metadata": {
        "id": "_VEQQJGYmYCg"
      }
    },
    {
      "cell_type": "markdown",
      "source": [
        "#### **8.2.1. Data Plots.**"
      ],
      "metadata": {
        "id": "yrh2Au0ymd12"
      }
    },
    {
      "cell_type": "code",
      "source": [
        "# Assuming enhance_df contains your data\n",
        "# Histogram using Plotly Express\n",
        "histogram = px.histogram(enhance_df, x='year', nbins=30, title='Histogram of Date added (year)')\n",
        "histogram.update_traces(marker=dict(color='green', line=dict(color='black', width=1)))\n",
        "histogram.update_xaxes(title='Date added (year)')\n",
        "histogram.update_yaxes(title='Frequency')\n",
        "histogram.show()\n",
        "\n",
        "# QQ Plot using Plotly\n",
        "qq_data = stats.probplot(enhance_df['year'], dist=\"norm\", fit=False)\n",
        "\n",
        "qq_plot = go.Figure()\n",
        "qq_plot.add_trace(go.Scatter(x=qq_data[0], y=qq_data[1], mode='markers', name='Data', marker=dict(color='blue')))\n",
        "# Fit a line to the QQ plot\n",
        "slope, intercept = np.polyfit(qq_data[0], qq_data[1], 1)\n",
        "qq_plot.add_trace(go.Scatter(x=qq_data[0], y=(np.array(qq_data[0]) * slope + intercept), mode='lines', name='Fit', line=dict(color='red')))\n",
        "\n",
        "qq_plot.update_layout(title='QQ Plot of Date added (year)', xaxis_title='Theoretical quantiles', yaxis_title='Sample quantiles')\n",
        "qq_plot.show()"
      ],
      "metadata": {
        "id": "p7hmAQAjmTMu"
      },
      "execution_count": null,
      "outputs": []
    },
    {
      "cell_type": "markdown",
      "source": [
        "#### **8.2.2. Skewness Test.**"
      ],
      "metadata": {
        "id": "E3cq6yk1m7HV"
      }
    },
    {
      "cell_type": "code",
      "source": [
        "# Calculate skewness\n",
        "skewness_value = skew(enhance_df['year'])\n",
        "\n",
        "# Determine the distribution description\n",
        "if abs(skewness_value) < 0.5:\n",
        "    description = \"approximately normally distributed\"\n",
        "elif skewness_value < -0.5:\n",
        "    description = \"left-skewed\"\n",
        "elif skewness_value > 0.5:\n",
        "    description = \"right-skewed\"\n",
        "else:\n",
        "    description = \"exhibiting non-normal characteristics\"\n",
        "\n",
        "print(f\"Date added (Year) data is {description}, value: {skewness_value}\")"
      ],
      "metadata": {
        "id": "oEcDuCpJmwa0"
      },
      "execution_count": null,
      "outputs": []
    },
    {
      "cell_type": "markdown",
      "source": [
        "#### **8.2.3. Shapiro-Wilk Test.**"
      ],
      "metadata": {
        "id": "bTn9XvRHnGpt"
      }
    },
    {
      "cell_type": "code",
      "source": [
        "# Perform the Shapiro-Wilk test\n",
        "shapiro_test_result = shapiro(enhance_df['year'])\n",
        "\n",
        "# Descriptive assessment based on the Shapiro-Wilk test result\n",
        "if shapiro_test_result.pvalue > 0.05:\n",
        "    description = \"normally distributed\"\n",
        "else:\n",
        "    description = \"non-normally distributed\"\n",
        "\n",
        "print(f\"Date added (year) data is {description}, p-value: {shapiro_test_result.pvalue}\")"
      ],
      "metadata": {
        "id": "oqeHsXbonE1V"
      },
      "execution_count": null,
      "outputs": []
    },
    {
      "cell_type": "markdown",
      "source": [
        "### **8.3. Duration Min (Movies)**"
      ],
      "metadata": {
        "id": "-iBOlmOonjuU"
      }
    },
    {
      "cell_type": "markdown",
      "source": [
        "#### **8.3.1. Data Plots.**"
      ],
      "metadata": {
        "id": "M-uu2D-jnnJF"
      }
    },
    {
      "cell_type": "code",
      "source": [
        "# Assuming enhance_df contains your data\n",
        "# Histogram using Plotly Express\n",
        "movies = enhance_df[enhance_df['movie'] == True]\n",
        "histogram = px.histogram(movies, x='duration_min', nbins=30, title='Histogram of Duration Min (Movies)')\n",
        "histogram.update_traces(marker=dict(color='green', line=dict(color='black', width=1)))\n",
        "histogram.update_xaxes(title='Duration Min (Movies)')\n",
        "histogram.update_yaxes(title='Frequency')\n",
        "histogram.show()\n",
        "\n",
        "# QQ Plot using Plotly\n",
        "qq_data = stats.probplot(movies['duration_min'], dist=\"norm\", fit=False)\n",
        "\n",
        "qq_plot = go.Figure()\n",
        "qq_plot.add_trace(go.Scatter(x=qq_data[0], y=qq_data[1], mode='markers', name='Data', marker=dict(color='blue')))\n",
        "# Fit a line to the QQ plot\n",
        "slope, intercept = np.polyfit(qq_data[0], qq_data[1], 1)\n",
        "qq_plot.add_trace(go.Scatter(x=qq_data[0], y=(np.array(qq_data[0]) * slope + intercept), mode='lines', name='Fit', line=dict(color='red')))\n",
        "\n",
        "qq_plot.update_layout(title='QQ Plot of Duration Min (Movies)', xaxis_title='Theoretical quantiles', yaxis_title='Sample quantiles')\n",
        "qq_plot.show()"
      ],
      "metadata": {
        "id": "QBVvn5qJnQE1"
      },
      "execution_count": null,
      "outputs": []
    },
    {
      "cell_type": "markdown",
      "source": [
        "#### **8.3.2. Skewness Test.**"
      ],
      "metadata": {
        "id": "7NipK75OptLt"
      }
    },
    {
      "cell_type": "code",
      "source": [
        "# Calculate skewness\n",
        "skewness_value = skew(enhance_df['duration_min'])\n",
        "\n",
        "# Determine the distribution description\n",
        "if abs(skewness_value) < 0.5:\n",
        "    description = \"approximately normally distributed\"\n",
        "elif skewness_value < -0.5:\n",
        "    description = \"left-skewed\"\n",
        "elif skewness_value > 0.5:\n",
        "    description = \"right-skewed\"\n",
        "else:\n",
        "    description = \"exhibiting non-normal characteristics\"\n",
        "\n",
        "print(f\"Duration Min (Movies) data is {description}, value: {skewness_value}\")"
      ],
      "metadata": {
        "id": "00Er8GchnVxf"
      },
      "execution_count": null,
      "outputs": []
    },
    {
      "cell_type": "markdown",
      "source": [
        "#### **8.3.3. Shapiro-Wilk Test.**"
      ],
      "metadata": {
        "id": "4T6_EyFRp-oO"
      }
    },
    {
      "cell_type": "code",
      "source": [
        "# Perform the Shapiro-Wilk test\n",
        "shapiro_test_result = shapiro(enhance_df['duration_min'])\n",
        "\n",
        "# Descriptive assessment based on the Shapiro-Wilk test result\n",
        "if shapiro_test_result.pvalue > 0.05:\n",
        "    description = \"normally distributed\"\n",
        "else:\n",
        "    description = \"non-normally distributed\"\n",
        "\n",
        "print(f\"Duration min (Movies) data is {description}, p-value: {shapiro_test_result.pvalue}\")"
      ],
      "metadata": {
        "id": "0WIFblMAp56n"
      },
      "execution_count": null,
      "outputs": []
    },
    {
      "cell_type": "markdown",
      "source": [
        "### **8.4. Duration Seasons (TV Shows)**"
      ],
      "metadata": {
        "id": "4tMjM41vqNfO"
      }
    },
    {
      "cell_type": "markdown",
      "source": [
        "#### **8.4.1. Data Plots.**"
      ],
      "metadata": {
        "id": "ouogqUmhqTRA"
      }
    },
    {
      "cell_type": "code",
      "source": [
        "# Assuming enhance_df contains your data\n",
        "# Histogram using Plotly Express\n",
        "tv_show = enhance_df[enhance_df['duration_seasons'] > 0]\n",
        "histogram = px.histogram(tv_show, x='duration_seasons', nbins=30, title='Histogram of Duration Seasons (Tv Shows)')\n",
        "histogram.update_traces(marker=dict(color='green', line=dict(color='black', width=1)))\n",
        "histogram.update_xaxes(title='Duration Seasons (Tv Shows)')\n",
        "histogram.update_yaxes(title='Frequency')\n",
        "histogram.show()\n",
        "\n",
        "# QQ Plot using Plotly\n",
        "qq_data = stats.probplot(tv_show['duration_seasons'], dist=\"norm\", fit=False)\n",
        "\n",
        "qq_plot = go.Figure()\n",
        "qq_plot.add_trace(go.Scatter(x=qq_data[0], y=qq_data[1], mode='markers', name='Data', marker=dict(color='blue')))\n",
        "# Fit a line to the QQ plot\n",
        "slope, intercept = np.polyfit(qq_data[0], qq_data[1], 1)\n",
        "qq_plot.add_trace(go.Scatter(x=qq_data[0], y=(np.array(qq_data[0]) * slope + intercept), mode='lines', name='Fit', line=dict(color='red')))\n",
        "\n",
        "qq_plot.update_layout(title='QQ Plot of Duration Seasons (Tv Shows)', xaxis_title='Theoretical quantiles', yaxis_title='Sample quantiles')\n",
        "qq_plot.show()"
      ],
      "metadata": {
        "id": "pFvS_yi_qFgO"
      },
      "execution_count": null,
      "outputs": []
    },
    {
      "cell_type": "markdown",
      "source": [
        "#### **8.4.2. Skewness Test.**"
      ],
      "metadata": {
        "id": "4VuzeGWVrFFs"
      }
    },
    {
      "cell_type": "code",
      "source": [
        "# Calculate skewness\n",
        "skewness_value = skew(enhance_df['duration_seasons'])\n",
        "\n",
        "# Determine the distribution description\n",
        "if abs(skewness_value) < 0.5:\n",
        "    description = \"approximately normally distributed\"\n",
        "elif skewness_value < -0.5:\n",
        "    description = \"left-skewed\"\n",
        "elif skewness_value > 0.5:\n",
        "    description = \"right-skewed\"\n",
        "else:\n",
        "    description = \"exhibiting non-normal characteristics\"\n",
        "\n",
        "print(f\"Duration Seasons (TV Shows) data is {description}, value: {skewness_value}\")"
      ],
      "metadata": {
        "id": "KQuIcvjTqnB4"
      },
      "execution_count": null,
      "outputs": []
    },
    {
      "cell_type": "markdown",
      "source": [
        "#### **8.4.3. Shapiro-Wilk Test.**"
      ],
      "metadata": {
        "id": "Itb2Ew-zrQhy"
      }
    },
    {
      "cell_type": "code",
      "source": [
        "# Perform the Shapiro-Wilk test\n",
        "shapiro_test_result = shapiro(enhance_df['duration_seasons'])\n",
        "\n",
        "# Descriptive assessment based on the Shapiro-Wilk test result\n",
        "if shapiro_test_result.pvalue > 0.05:\n",
        "    description = \"normally distributed\"\n",
        "else:\n",
        "    description = \"non-normally distributed\"\n",
        "\n",
        "print(f\"Duration Seasons (TV Shows) data is {description}, p-value: {shapiro_test_result.pvalue}\")"
      ],
      "metadata": {
        "id": "ajtRiU7orMXA"
      },
      "execution_count": null,
      "outputs": []
    },
    {
      "cell_type": "markdown",
      "source": [
        "After conducting the statistical test, it is evident that the distributions of variables such as Release Year, Date Added Year, Duration in Minutes for Movies, and Duration in Seasons for TV Shows exhibit deviation from a normal distribution. The results of the test indicate non-normality in these specific features based on the chosen statistical analysis or method used. The departure from normality implies that these variables do not conform to the characteristics expected under a standard normal distribution. This information is crucial for appropriately selecting statistical methods or models that account for the non-normal nature of these variables, ensuring robust and accurate analyses within the context of the dataset."
      ],
      "metadata": {
        "id": "NrN-u2nlrhAb"
      }
    },
    {
      "cell_type": "markdown",
      "source": [
        "## **9. Visualization.**"
      ],
      "metadata": {
        "id": "dLCqBpfasWK_"
      }
    },
    {
      "cell_type": "code",
      "source": [
        "# Create a bar plot for movies\n",
        "movies_bar = px.bar(\n",
        "    enhance_df[enhance_df['tv_show'] == False],\n",
        "    x='content_rating',\n",
        "    y='duration_min',\n",
        "    error_y='duration_min',\n",
        "    title='Bar Plot: Movie Duration Across Content Ratings',\n",
        "    labels={'duration_min': 'Duration (minutes)', 'content_rating': 'Content Rating'}\n",
        ")\n",
        "movies_bar.update_traces(error_y=dict(visible=True, symmetric=True), opacity=0.7)\n",
        "movies_bar.update_layout(xaxis_title='Content Rating', yaxis_title='Duration (minutes)', showlegend=False)\n",
        "movies_bar.show()\n",
        "\n",
        "# Create a bar plot for TV shows (using number of seasons)\n",
        "movies_bar = px.bar(\n",
        "    enhance_df[enhance_df['tv_show'] == True],\n",
        "    x='content_rating',\n",
        "    y='duration_seasons',\n",
        "    error_y='duration_seasons',\n",
        "    title='Bar Plot: TV Show Duration Across Content Ratings',\n",
        "    labels={'duration_seasons': 'Duration (Seasons)', 'content_rating': 'Content Rating'}\n",
        ")\n",
        "movies_bar.update_traces(error_y=dict(visible=True, symmetric=True), opacity=0.7)\n",
        "movies_bar.update_layout(xaxis_title='Content Rating', yaxis_title='Duration (Seasons)', showlegend=False)\n",
        "movies_bar.show()"
      ],
      "metadata": {
        "id": "7PPrk9-XrYip"
      },
      "execution_count": null,
      "outputs": []
    },
    {
      "cell_type": "markdown",
      "source": [
        "The graphs indicate a substantial focus by content creators on mature audiences, notably observed through the prevalence of content rated as TV-MA and TV-14. This trend suggests a deliberate emphasis on catering to the preferences and interests of older viewers, reflecting a strategic alignment with the demand for content tailored to a more mature demographic."
      ],
      "metadata": {
        "id": "1O60cTDxztu3"
      }
    },
    {
      "cell_type": "code",
      "source": [
        "\n",
        "# Creating a new column to categorize movies as before or after the year 2000\n",
        "enhance_df['year_category'] = enhance_df['release_year'].apply(lambda year: 'Before 2000' if year < 2000 else 'After 2000')\n",
        "\n",
        "# Creating a box plot to compare movie durations before and after the year 2000\n",
        "box_plot = px.box(enhance_df, x='year_category', y='duration_min',\n",
        "                  title='Comparison of Movie Durations Before and After the Year 2000',\n",
        "                  labels={'duration_min': 'Duration (minutes)', 'year_category': 'Year Group'})\n",
        "box_plot.show()"
      ],
      "metadata": {
        "id": "B8WyMOGRvlvg"
      },
      "execution_count": null,
      "outputs": []
    },
    {
      "cell_type": "markdown",
      "source": [
        "The box plot comparison suggests a clear and significant difference in movie durations before and after the year 2000. The visible divergence in median durations and spread indicates a distinct shift in movie length trends around the millennium. Rejecting the null hypothesis signifies a meaningful distinction between these time frames in terms of movie duration pattern"
      ],
      "metadata": {
        "id": "sBGOEYuW5TLm"
      }
    },
    {
      "cell_type": "code",
      "source": [
        "# Assuming df contains the required data\n",
        "content_distribution = enhance_df.groupby(['year', 'type'])['show_id'].count().unstack().reset_index()\n",
        "\n",
        "fig = px.bar(content_distribution, x='year', y=['Movie', 'TV Show'],\n",
        "             title='Content Distribution Over Time', labels={'value': 'Number of Titles'}\n",
        "             )\n",
        "\n",
        "fig.update_layout(xaxis_title='Year Added', yaxis_title='Number of Titles', legend_title='Type')\n",
        "fig.update_xaxes(tickangle=45, tickmode='linear')\n",
        "fig.show()"
      ],
      "metadata": {
        "id": "FDb8czi-4rSB"
      },
      "execution_count": null,
      "outputs": []
    },
    {
      "cell_type": "code",
      "source": [
        "movies_df_copy = enhance_df.copy()\n",
        "\n",
        "genre_dummies = movies_df_copy['listed_in'].str.get_dummies(sep=', ')\n",
        "\n",
        "category_priorities = {\n",
        "    'Action & Adventure': ['Action & Adventure', 'Anime Features'],\n",
        "    'Romance': ['Dramas', 'Classic Movies'],\n",
        "    'Comedy': ['Comedies'],\n",
        "    'Horror': ['Horror Movies'],\n",
        "    'Kid Friendly': ['Children & Family Movies']\n",
        "}\n",
        "\n",
        "for category, genres in category_priorities.items():\n",
        "    movies_df_copy[category] = genre_dummies[genres].max(axis=1)\n",
        "\n",
        "other_genres = genre_dummies.columns.difference(category_priorities.keys())\n",
        "movies_df_copy['Other'] = 1 - genre_dummies[other_genres].max(axis=1)\n",
        "\n",
        "category_counts = movies_df_copy.groupby('year')[list(category_priorities.keys()) + ['Other']].sum().reset_index()\n",
        "\n",
        "fig = px.line(category_counts, x='year', y=list(category_counts.columns)[1:],\n",
        "              title='Number of Productions Over the Years by Category', labels={'value': 'Number of Productions'},\n",
        "              color_discrete_sequence=px.colors.qualitative.Plotly)\n",
        "\n",
        "fig.update_layout(xaxis_title='Year', yaxis_title='Number of Productions', legend_title='Category')\n",
        "fig.show()"
      ],
      "metadata": {
        "id": "o2Qu8j5P6MCc"
      },
      "execution_count": null,
      "outputs": []
    },
    {
      "cell_type": "code",
      "source": [
        "tv_shows_df_copy = enhance_df.copy()\n",
        "\n",
        "genre_dummies_tv = tv_shows_df_copy['listed_in'].str.get_dummies(sep=', ')\n",
        "\n",
        "category_priorities_tv = {\n",
        "    'Action & Adventure': ['TV Action & Adventure'],\n",
        "    'Thrillers': ['TV Thrillers', 'TV Mysteries', 'Crime TV Shows'],\n",
        "    'Comedy': ['TV Comedies', 'Stand-Up Comedy & Talk Shows'],\n",
        "    'International': ['International TV Shows', 'British TV Shows', 'Korean TV Shows', 'Spanish-Language TV Shows', 'Anime Series'],\n",
        "    'Romance': ['Classic & Cult TV', 'Romantic TV Shows']\n",
        "}\n",
        "\n",
        "for category, genres in category_priorities_tv.items():\n",
        "    tv_shows_df_copy[category] = genre_dummies_tv[genres].max(axis=1)\n",
        "\n",
        "other_genres_tv = genre_dummies_tv.columns.difference(category_priorities_tv.keys())\n",
        "tv_shows_df_copy['Other'] = genre_dummies_tv[other_genres_tv].max(axis=1)\n",
        "\n",
        "category_counts_tv = tv_shows_df_copy.groupby('year')[list(category_priorities_tv.keys()) + ['Other']].sum().reset_index()\n",
        "\n",
        "fig = px.line(category_counts_tv, x='year', y=list(category_counts_tv.columns)[1:],\n",
        "              title='Number of Productions Over the Years by Category (TV Shows)', labels={'value': 'Number of Productions'},\n",
        "              color_discrete_sequence=px.colors.qualitative.Plotly)\n",
        "\n",
        "fig.update_layout(xaxis_title='Year', yaxis_title='Number of Productions', legend_title='Category')\n",
        "fig.show()"
      ],
      "metadata": {
        "id": "DPrIqiZP8B_I"
      },
      "execution_count": null,
      "outputs": []
    },
    {
      "cell_type": "markdown",
      "source": [
        "The line graph depicting the annual release of movies and TV shows by genre reveals a stable pattern over the years.\n",
        "Notably, the popularity of a specific genre in both TV shows and movies has remained consistent, demonstrating a sustained audience interest on action and adventure category.\n"
      ],
      "metadata": {
        "id": "GlokACge_BxZ"
      }
    },
    {
      "cell_type": "code",
      "source": [
        "# Assuming df contains the 'content_type' column\n",
        "content_type_counts = enhance_df['type'].value_counts().reset_index()\n",
        "\n",
        "fig = px.pie(content_type_counts, values='type', names='index',\n",
        "             title='Distribution of Movies and TV Shows',\n",
        "             color_discrete_sequence=['#D10000', '#F08080'])\n",
        "fig.update_traces(textinfo='percent+label', pull=[0.1, 0], hole=0.3)\n",
        "fig.show()"
      ],
      "metadata": {
        "id": "-uJrqqXC85PE"
      },
      "execution_count": null,
      "outputs": []
    },
    {
      "cell_type": "markdown",
      "source": [
        "The pie chart showcasing the distribution between movies and TV shows illustrates a predominant focus by content creators on producing movies. Approximately 69.7% of the content available on the platform constitutes movies, indicating a substantial emphasis on this category. This inclination toward movie production suggests a deliberate strategy by content creators to cater to a larger audience or align with viewers' preferences. The higher proportion of movies also potentially reflects a response to the prevalent demand for cinematic content over TV shows, shaping the platform's content offerings in favor of movies as the primary content type"
      ],
      "metadata": {
        "id": "jO5TrvM-AaRb"
      }
    },
    {
      "cell_type": "markdown",
      "source": [
        "## **10. Validating Hypotheses and Addressing Research Questions.**\n",
        "To accept or reject the null Hypotesis stated on [2. Research Question], we need to use Kruskal-Wallis test, knowing that the does not follow normal distribution, to do that we need execute the following code:"
      ],
      "metadata": {
        "id": "IxcUvrjYAx0o"
      }
    },
    {
      "cell_type": "markdown",
      "source": [
        "### **10.1. Research question #1.**"
      ],
      "metadata": {
        "id": "B_cBtDINCT7R"
      }
    },
    {
      "cell_type": "code",
      "source": [
        "# Filtered DataFrame for movies and TV shows\n",
        "movies_df = enhance_df[enhance_df['type'] == 'Movie']\n",
        "tv_shows_df = enhance_df[enhance_df['type'] == 'TV Show']\n",
        "# Kruskal-Wallis test for movie duration across content ratings\n",
        "movie_result = kruskal(*[group['duration_min'] for name, group in movies_df.groupby('content_rating')])\n",
        "print(\"Kruskal-Wallis test p-value for movie duration across content ratings:\", movie_result.pvalue)\n",
        "\n",
        "# Determine acceptance or rejection of null hypothesis\n",
        "alpha = 0.05  # Significance level\n",
        "if movie_result.pvalue < alpha:\n",
        "    print(\"Reject the null hypothesis: There are no significant differences in movie durations across content ratings.\")\n",
        "else:\n",
        "    print(\"Accept the null hypothesis: There are no significant differences in movie durations across content ratings.\")\n",
        "\n",
        "# Kruskal-Wallis test for TV show duration across content ratings\n",
        "tv_show_result = kruskal(*[group['duration_seasons'] for name, group in tv_shows_df.groupby('content_rating')])\n",
        "print(\"Kruskal-Wallis test p-value for TV show duration across content ratings:\", tv_show_result.pvalue)\n",
        "\n",
        "# Determine acceptance or rejection of null hypothesis\n",
        "alpha = 0.05  # Significance level\n",
        "if movie_result.pvalue < alpha:\n",
        "    print(\"Reject the null hypothesis: There are no significant differences in TV show durations across content ratings.\")\n",
        "else:\n",
        "    print(\"Accept the null hypothesis: There are no significant differences in TV show durations across content ratings.\")"
      ],
      "metadata": {
        "id": "zw5XAlGAD1e-"
      },
      "execution_count": null,
      "outputs": []
    },
    {
      "cell_type": "markdown",
      "source": [
        "### **10.2. Research Quesetion #2.**"
      ],
      "metadata": {
        "id": "ed2z7KTDL5AC"
      }
    },
    {
      "cell_type": "code",
      "source": [
        "# Filter movies before and after the year 2000\n",
        "movies_before_2000 = enhance_df[(enhance_df['type'] == 'Movie') & (enhance_df['release_year'] < 2000)]\n",
        "movies_after_2000 = enhance_df[(enhance_df['type'] == 'Movie') & (enhance_df['release_year'] >= 2000)]\n",
        "\n",
        "# Perform t-test for comparing movie duration before and after 2000\n",
        "t_stat, p_value = ttest_ind(movies_before_2000['duration_min'], movies_after_2000['duration_min'])\n",
        "print(\"T-test p-value for movie duration before and after 2000:\", p_value)\n",
        "\n",
        "# Determine acceptance or rejection of null hypothesis\n",
        "if p_value < alpha:\n",
        "    print(\"Reject the null hypothesis: There is no significant difference in movie durations before and after 2000.\")\n",
        "else:\n",
        "    print(\"Accept the null hypothesis: There is no significant difference in movie durations before and after 2000.\")"
      ],
      "metadata": {
        "id": "WJMK_xNHED8G"
      },
      "execution_count": null,
      "outputs": []
    },
    {
      "cell_type": "markdown",
      "source": [
        "### **10.3. Research Question #3.**"
      ],
      "metadata": {
        "id": "zfe5Gs1WQTgl"
      }
    },
    {
      "cell_type": "markdown",
      "source": [
        "For analyzing variations in popular genres over time, no hypothesis test is required as it involves observing trends in data and identifying changing patterns without specific hypothesis testing."
      ],
      "metadata": {
        "id": "21eDTyaGR9y4"
      }
    },
    {
      "cell_type": "markdown",
      "source": [
        "### 10.4. Research Question #4."
      ],
      "metadata": {
        "id": "ohQExt70SAPo"
      }
    },
    {
      "cell_type": "markdown",
      "source": [
        "For determining the most streamed content, statistical hypothesis testing may not be applicable. Instead, it involves finding the most occurring categories based on the data."
      ],
      "metadata": {
        "id": "mqQtMhAVSugs"
      }
    }
  ]
}